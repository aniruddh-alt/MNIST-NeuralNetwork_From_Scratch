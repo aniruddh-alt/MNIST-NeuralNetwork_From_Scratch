{
  "nbformat": 4,
  "nbformat_minor": 0,
  "metadata": {
    "colab": {
      "provenance": [],
      "gpuType": "T4",
      "authorship_tag": "ABX9TyNANgpU65axcCnPT9jdPm/2",
      "include_colab_link": true
    },
    "kernelspec": {
      "name": "python3",
      "display_name": "Python 3"
    },
    "language_info": {
      "name": "python"
    }
  },
  "cells": [
    {
      "cell_type": "markdown",
      "metadata": {
        "id": "view-in-github",
        "colab_type": "text"
      },
      "source": [
        "<a href=\"https://colab.research.google.com/github/aniruddh-alt/MNIST-NeuralNetwork_From_Scratch/blob/main/NeuralNetwork_Scratch.ipynb\" target=\"_parent\"><img src=\"https://colab.research.google.com/assets/colab-badge.svg\" alt=\"Open In Colab\"/></a>"
      ]
    },
    {
      "cell_type": "markdown",
      "source": [
        "This notebook will implement a neural network that is used to train on the MNIST data set, from scratch without the use any deeplearning libraries.\n"
      ],
      "metadata": {
        "id": "_4kG-9dyLzmq"
      }
    },
    {
      "cell_type": "code",
      "source": [
        "import numpy as np\n",
        "import pandas as pd\n",
        "from tqdm import tqdm"
      ],
      "metadata": {
        "id": "6HLEfD4UMEBc"
      },
      "execution_count": 1,
      "outputs": []
    },
    {
      "cell_type": "code",
      "source": [
        "from google.colab import files\n",
        "files.upload()"
      ],
      "metadata": {
        "colab": {
          "base_uri": "https://localhost:8080/",
          "height": 92
        },
        "id": "QxkAbnVHMGH1",
        "outputId": "c7daa7ff-b362-4440-bb82-b76b332d40c4"
      },
      "execution_count": 2,
      "outputs": [
        {
          "output_type": "display_data",
          "data": {
            "text/plain": [
              "<IPython.core.display.HTML object>"
            ],
            "text/html": [
              "\n",
              "     <input type=\"file\" id=\"files-1e117cf5-b780-4478-bf6d-e739b3503a0f\" name=\"files[]\" multiple disabled\n",
              "        style=\"border:none\" />\n",
              "     <output id=\"result-1e117cf5-b780-4478-bf6d-e739b3503a0f\">\n",
              "      Upload widget is only available when the cell has been executed in the\n",
              "      current browser session. Please rerun this cell to enable.\n",
              "      </output>\n",
              "      <script>// Copyright 2017 Google LLC\n",
              "//\n",
              "// Licensed under the Apache License, Version 2.0 (the \"License\");\n",
              "// you may not use this file except in compliance with the License.\n",
              "// You may obtain a copy of the License at\n",
              "//\n",
              "//      http://www.apache.org/licenses/LICENSE-2.0\n",
              "//\n",
              "// Unless required by applicable law or agreed to in writing, software\n",
              "// distributed under the License is distributed on an \"AS IS\" BASIS,\n",
              "// WITHOUT WARRANTIES OR CONDITIONS OF ANY KIND, either express or implied.\n",
              "// See the License for the specific language governing permissions and\n",
              "// limitations under the License.\n",
              "\n",
              "/**\n",
              " * @fileoverview Helpers for google.colab Python module.\n",
              " */\n",
              "(function(scope) {\n",
              "function span(text, styleAttributes = {}) {\n",
              "  const element = document.createElement('span');\n",
              "  element.textContent = text;\n",
              "  for (const key of Object.keys(styleAttributes)) {\n",
              "    element.style[key] = styleAttributes[key];\n",
              "  }\n",
              "  return element;\n",
              "}\n",
              "\n",
              "// Max number of bytes which will be uploaded at a time.\n",
              "const MAX_PAYLOAD_SIZE = 100 * 1024;\n",
              "\n",
              "function _uploadFiles(inputId, outputId) {\n",
              "  const steps = uploadFilesStep(inputId, outputId);\n",
              "  const outputElement = document.getElementById(outputId);\n",
              "  // Cache steps on the outputElement to make it available for the next call\n",
              "  // to uploadFilesContinue from Python.\n",
              "  outputElement.steps = steps;\n",
              "\n",
              "  return _uploadFilesContinue(outputId);\n",
              "}\n",
              "\n",
              "// This is roughly an async generator (not supported in the browser yet),\n",
              "// where there are multiple asynchronous steps and the Python side is going\n",
              "// to poll for completion of each step.\n",
              "// This uses a Promise to block the python side on completion of each step,\n",
              "// then passes the result of the previous step as the input to the next step.\n",
              "function _uploadFilesContinue(outputId) {\n",
              "  const outputElement = document.getElementById(outputId);\n",
              "  const steps = outputElement.steps;\n",
              "\n",
              "  const next = steps.next(outputElement.lastPromiseValue);\n",
              "  return Promise.resolve(next.value.promise).then((value) => {\n",
              "    // Cache the last promise value to make it available to the next\n",
              "    // step of the generator.\n",
              "    outputElement.lastPromiseValue = value;\n",
              "    return next.value.response;\n",
              "  });\n",
              "}\n",
              "\n",
              "/**\n",
              " * Generator function which is called between each async step of the upload\n",
              " * process.\n",
              " * @param {string} inputId Element ID of the input file picker element.\n",
              " * @param {string} outputId Element ID of the output display.\n",
              " * @return {!Iterable<!Object>} Iterable of next steps.\n",
              " */\n",
              "function* uploadFilesStep(inputId, outputId) {\n",
              "  const inputElement = document.getElementById(inputId);\n",
              "  inputElement.disabled = false;\n",
              "\n",
              "  const outputElement = document.getElementById(outputId);\n",
              "  outputElement.innerHTML = '';\n",
              "\n",
              "  const pickedPromise = new Promise((resolve) => {\n",
              "    inputElement.addEventListener('change', (e) => {\n",
              "      resolve(e.target.files);\n",
              "    });\n",
              "  });\n",
              "\n",
              "  const cancel = document.createElement('button');\n",
              "  inputElement.parentElement.appendChild(cancel);\n",
              "  cancel.textContent = 'Cancel upload';\n",
              "  const cancelPromise = new Promise((resolve) => {\n",
              "    cancel.onclick = () => {\n",
              "      resolve(null);\n",
              "    };\n",
              "  });\n",
              "\n",
              "  // Wait for the user to pick the files.\n",
              "  const files = yield {\n",
              "    promise: Promise.race([pickedPromise, cancelPromise]),\n",
              "    response: {\n",
              "      action: 'starting',\n",
              "    }\n",
              "  };\n",
              "\n",
              "  cancel.remove();\n",
              "\n",
              "  // Disable the input element since further picks are not allowed.\n",
              "  inputElement.disabled = true;\n",
              "\n",
              "  if (!files) {\n",
              "    return {\n",
              "      response: {\n",
              "        action: 'complete',\n",
              "      }\n",
              "    };\n",
              "  }\n",
              "\n",
              "  for (const file of files) {\n",
              "    const li = document.createElement('li');\n",
              "    li.append(span(file.name, {fontWeight: 'bold'}));\n",
              "    li.append(span(\n",
              "        `(${file.type || 'n/a'}) - ${file.size} bytes, ` +\n",
              "        `last modified: ${\n",
              "            file.lastModifiedDate ? file.lastModifiedDate.toLocaleDateString() :\n",
              "                                    'n/a'} - `));\n",
              "    const percent = span('0% done');\n",
              "    li.appendChild(percent);\n",
              "\n",
              "    outputElement.appendChild(li);\n",
              "\n",
              "    const fileDataPromise = new Promise((resolve) => {\n",
              "      const reader = new FileReader();\n",
              "      reader.onload = (e) => {\n",
              "        resolve(e.target.result);\n",
              "      };\n",
              "      reader.readAsArrayBuffer(file);\n",
              "    });\n",
              "    // Wait for the data to be ready.\n",
              "    let fileData = yield {\n",
              "      promise: fileDataPromise,\n",
              "      response: {\n",
              "        action: 'continue',\n",
              "      }\n",
              "    };\n",
              "\n",
              "    // Use a chunked sending to avoid message size limits. See b/62115660.\n",
              "    let position = 0;\n",
              "    do {\n",
              "      const length = Math.min(fileData.byteLength - position, MAX_PAYLOAD_SIZE);\n",
              "      const chunk = new Uint8Array(fileData, position, length);\n",
              "      position += length;\n",
              "\n",
              "      const base64 = btoa(String.fromCharCode.apply(null, chunk));\n",
              "      yield {\n",
              "        response: {\n",
              "          action: 'append',\n",
              "          file: file.name,\n",
              "          data: base64,\n",
              "        },\n",
              "      };\n",
              "\n",
              "      let percentDone = fileData.byteLength === 0 ?\n",
              "          100 :\n",
              "          Math.round((position / fileData.byteLength) * 100);\n",
              "      percent.textContent = `${percentDone}% done`;\n",
              "\n",
              "    } while (position < fileData.byteLength);\n",
              "  }\n",
              "\n",
              "  // All done.\n",
              "  yield {\n",
              "    response: {\n",
              "      action: 'complete',\n",
              "    }\n",
              "  };\n",
              "}\n",
              "\n",
              "scope.google = scope.google || {};\n",
              "scope.google.colab = scope.google.colab || {};\n",
              "scope.google.colab._files = {\n",
              "  _uploadFiles,\n",
              "  _uploadFilesContinue,\n",
              "};\n",
              "})(self);\n",
              "</script> "
            ]
          },
          "metadata": {}
        },
        {
          "output_type": "stream",
          "name": "stdout",
          "text": [
            "Saving kaggle.json to kaggle.json\n"
          ]
        },
        {
          "output_type": "execute_result",
          "data": {
            "text/plain": [
              "{'kaggle.json': b'{\"username\":\"aniruddhanramesh\",\"key\":\"dfc5d883ac59f4ec4bb3bb0921a6b9c8\"}'}"
            ]
          },
          "metadata": {},
          "execution_count": 2
        }
      ]
    },
    {
      "cell_type": "code",
      "source": [
        "!mkdir -p ~/.config/kaggle\n",
        "!mv kaggle.json ~/.config/kaggle/"
      ],
      "metadata": {
        "id": "j8SwtoJ1N9hW"
      },
      "execution_count": 3,
      "outputs": []
    },
    {
      "cell_type": "code",
      "source": [
        "!kaggle competitions download -c digit-recognizer"
      ],
      "metadata": {
        "colab": {
          "base_uri": "https://localhost:8080/"
        },
        "id": "MGgrU5mWOJ_p",
        "outputId": "94d722c0-7fc3-4896-ddb4-82e70eab68ec"
      },
      "execution_count": 4,
      "outputs": [
        {
          "output_type": "stream",
          "name": "stdout",
          "text": [
            "Warning: Your Kaggle API key is readable by other users on this system! To fix this, you can run 'chmod 600 /root/.config/kaggle/kaggle.json'\n",
            "Downloading digit-recognizer.zip to /content\n",
            " 33% 5.00M/15.3M [00:00<00:00, 37.3MB/s]\n",
            "100% 15.3M/15.3M [00:00<00:00, 75.8MB/s]\n"
          ]
        }
      ]
    },
    {
      "cell_type": "code",
      "source": [
        "!unzip digit-recognizer.zip"
      ],
      "metadata": {
        "colab": {
          "base_uri": "https://localhost:8080/"
        },
        "id": "Zdce1mPGOkpG",
        "outputId": "4214a85e-0bc4-46e4-f575-1089e2e80fc6"
      },
      "execution_count": 5,
      "outputs": [
        {
          "output_type": "stream",
          "name": "stdout",
          "text": [
            "Archive:  digit-recognizer.zip\n",
            "  inflating: sample_submission.csv   \n",
            "  inflating: test.csv                \n",
            "  inflating: train.csv               \n"
          ]
        }
      ]
    },
    {
      "cell_type": "code",
      "source": [
        "data = pd.read_csv('train.csv')"
      ],
      "metadata": {
        "id": "T7AYjYnPO70Y"
      },
      "execution_count": 6,
      "outputs": []
    },
    {
      "cell_type": "code",
      "source": [
        "data"
      ],
      "metadata": {
        "colab": {
          "base_uri": "https://localhost:8080/",
          "height": 444
        },
        "id": "TQXgtFBWPC0M",
        "outputId": "1191c55f-bb9c-4fc2-9c49-3a3e007e50bd"
      },
      "execution_count": 7,
      "outputs": [
        {
          "output_type": "execute_result",
          "data": {
            "text/plain": [
              "       label  pixel0  pixel1  pixel2  pixel3  pixel4  pixel5  pixel6  pixel7  \\\n",
              "0          1       0       0       0       0       0       0       0       0   \n",
              "1          0       0       0       0       0       0       0       0       0   \n",
              "2          1       0       0       0       0       0       0       0       0   \n",
              "3          4       0       0       0       0       0       0       0       0   \n",
              "4          0       0       0       0       0       0       0       0       0   \n",
              "...      ...     ...     ...     ...     ...     ...     ...     ...     ...   \n",
              "41995      0       0       0       0       0       0       0       0       0   \n",
              "41996      1       0       0       0       0       0       0       0       0   \n",
              "41997      7       0       0       0       0       0       0       0       0   \n",
              "41998      6       0       0       0       0       0       0       0       0   \n",
              "41999      9       0       0       0       0       0       0       0       0   \n",
              "\n",
              "       pixel8  ...  pixel774  pixel775  pixel776  pixel777  pixel778  \\\n",
              "0           0  ...         0         0         0         0         0   \n",
              "1           0  ...         0         0         0         0         0   \n",
              "2           0  ...         0         0         0         0         0   \n",
              "3           0  ...         0         0         0         0         0   \n",
              "4           0  ...         0         0         0         0         0   \n",
              "...       ...  ...       ...       ...       ...       ...       ...   \n",
              "41995       0  ...         0         0         0         0         0   \n",
              "41996       0  ...         0         0         0         0         0   \n",
              "41997       0  ...         0         0         0         0         0   \n",
              "41998       0  ...         0         0         0         0         0   \n",
              "41999       0  ...         0         0         0         0         0   \n",
              "\n",
              "       pixel779  pixel780  pixel781  pixel782  pixel783  \n",
              "0             0         0         0         0         0  \n",
              "1             0         0         0         0         0  \n",
              "2             0         0         0         0         0  \n",
              "3             0         0         0         0         0  \n",
              "4             0         0         0         0         0  \n",
              "...         ...       ...       ...       ...       ...  \n",
              "41995         0         0         0         0         0  \n",
              "41996         0         0         0         0         0  \n",
              "41997         0         0         0         0         0  \n",
              "41998         0         0         0         0         0  \n",
              "41999         0         0         0         0         0  \n",
              "\n",
              "[42000 rows x 785 columns]"
            ],
            "text/html": [
              "\n",
              "  <div id=\"df-251a3864-c514-44cd-80b1-ff899f3eef55\" class=\"colab-df-container\">\n",
              "    <div>\n",
              "<style scoped>\n",
              "    .dataframe tbody tr th:only-of-type {\n",
              "        vertical-align: middle;\n",
              "    }\n",
              "\n",
              "    .dataframe tbody tr th {\n",
              "        vertical-align: top;\n",
              "    }\n",
              "\n",
              "    .dataframe thead th {\n",
              "        text-align: right;\n",
              "    }\n",
              "</style>\n",
              "<table border=\"1\" class=\"dataframe\">\n",
              "  <thead>\n",
              "    <tr style=\"text-align: right;\">\n",
              "      <th></th>\n",
              "      <th>label</th>\n",
              "      <th>pixel0</th>\n",
              "      <th>pixel1</th>\n",
              "      <th>pixel2</th>\n",
              "      <th>pixel3</th>\n",
              "      <th>pixel4</th>\n",
              "      <th>pixel5</th>\n",
              "      <th>pixel6</th>\n",
              "      <th>pixel7</th>\n",
              "      <th>pixel8</th>\n",
              "      <th>...</th>\n",
              "      <th>pixel774</th>\n",
              "      <th>pixel775</th>\n",
              "      <th>pixel776</th>\n",
              "      <th>pixel777</th>\n",
              "      <th>pixel778</th>\n",
              "      <th>pixel779</th>\n",
              "      <th>pixel780</th>\n",
              "      <th>pixel781</th>\n",
              "      <th>pixel782</th>\n",
              "      <th>pixel783</th>\n",
              "    </tr>\n",
              "  </thead>\n",
              "  <tbody>\n",
              "    <tr>\n",
              "      <th>0</th>\n",
              "      <td>1</td>\n",
              "      <td>0</td>\n",
              "      <td>0</td>\n",
              "      <td>0</td>\n",
              "      <td>0</td>\n",
              "      <td>0</td>\n",
              "      <td>0</td>\n",
              "      <td>0</td>\n",
              "      <td>0</td>\n",
              "      <td>0</td>\n",
              "      <td>...</td>\n",
              "      <td>0</td>\n",
              "      <td>0</td>\n",
              "      <td>0</td>\n",
              "      <td>0</td>\n",
              "      <td>0</td>\n",
              "      <td>0</td>\n",
              "      <td>0</td>\n",
              "      <td>0</td>\n",
              "      <td>0</td>\n",
              "      <td>0</td>\n",
              "    </tr>\n",
              "    <tr>\n",
              "      <th>1</th>\n",
              "      <td>0</td>\n",
              "      <td>0</td>\n",
              "      <td>0</td>\n",
              "      <td>0</td>\n",
              "      <td>0</td>\n",
              "      <td>0</td>\n",
              "      <td>0</td>\n",
              "      <td>0</td>\n",
              "      <td>0</td>\n",
              "      <td>0</td>\n",
              "      <td>...</td>\n",
              "      <td>0</td>\n",
              "      <td>0</td>\n",
              "      <td>0</td>\n",
              "      <td>0</td>\n",
              "      <td>0</td>\n",
              "      <td>0</td>\n",
              "      <td>0</td>\n",
              "      <td>0</td>\n",
              "      <td>0</td>\n",
              "      <td>0</td>\n",
              "    </tr>\n",
              "    <tr>\n",
              "      <th>2</th>\n",
              "      <td>1</td>\n",
              "      <td>0</td>\n",
              "      <td>0</td>\n",
              "      <td>0</td>\n",
              "      <td>0</td>\n",
              "      <td>0</td>\n",
              "      <td>0</td>\n",
              "      <td>0</td>\n",
              "      <td>0</td>\n",
              "      <td>0</td>\n",
              "      <td>...</td>\n",
              "      <td>0</td>\n",
              "      <td>0</td>\n",
              "      <td>0</td>\n",
              "      <td>0</td>\n",
              "      <td>0</td>\n",
              "      <td>0</td>\n",
              "      <td>0</td>\n",
              "      <td>0</td>\n",
              "      <td>0</td>\n",
              "      <td>0</td>\n",
              "    </tr>\n",
              "    <tr>\n",
              "      <th>3</th>\n",
              "      <td>4</td>\n",
              "      <td>0</td>\n",
              "      <td>0</td>\n",
              "      <td>0</td>\n",
              "      <td>0</td>\n",
              "      <td>0</td>\n",
              "      <td>0</td>\n",
              "      <td>0</td>\n",
              "      <td>0</td>\n",
              "      <td>0</td>\n",
              "      <td>...</td>\n",
              "      <td>0</td>\n",
              "      <td>0</td>\n",
              "      <td>0</td>\n",
              "      <td>0</td>\n",
              "      <td>0</td>\n",
              "      <td>0</td>\n",
              "      <td>0</td>\n",
              "      <td>0</td>\n",
              "      <td>0</td>\n",
              "      <td>0</td>\n",
              "    </tr>\n",
              "    <tr>\n",
              "      <th>4</th>\n",
              "      <td>0</td>\n",
              "      <td>0</td>\n",
              "      <td>0</td>\n",
              "      <td>0</td>\n",
              "      <td>0</td>\n",
              "      <td>0</td>\n",
              "      <td>0</td>\n",
              "      <td>0</td>\n",
              "      <td>0</td>\n",
              "      <td>0</td>\n",
              "      <td>...</td>\n",
              "      <td>0</td>\n",
              "      <td>0</td>\n",
              "      <td>0</td>\n",
              "      <td>0</td>\n",
              "      <td>0</td>\n",
              "      <td>0</td>\n",
              "      <td>0</td>\n",
              "      <td>0</td>\n",
              "      <td>0</td>\n",
              "      <td>0</td>\n",
              "    </tr>\n",
              "    <tr>\n",
              "      <th>...</th>\n",
              "      <td>...</td>\n",
              "      <td>...</td>\n",
              "      <td>...</td>\n",
              "      <td>...</td>\n",
              "      <td>...</td>\n",
              "      <td>...</td>\n",
              "      <td>...</td>\n",
              "      <td>...</td>\n",
              "      <td>...</td>\n",
              "      <td>...</td>\n",
              "      <td>...</td>\n",
              "      <td>...</td>\n",
              "      <td>...</td>\n",
              "      <td>...</td>\n",
              "      <td>...</td>\n",
              "      <td>...</td>\n",
              "      <td>...</td>\n",
              "      <td>...</td>\n",
              "      <td>...</td>\n",
              "      <td>...</td>\n",
              "      <td>...</td>\n",
              "    </tr>\n",
              "    <tr>\n",
              "      <th>41995</th>\n",
              "      <td>0</td>\n",
              "      <td>0</td>\n",
              "      <td>0</td>\n",
              "      <td>0</td>\n",
              "      <td>0</td>\n",
              "      <td>0</td>\n",
              "      <td>0</td>\n",
              "      <td>0</td>\n",
              "      <td>0</td>\n",
              "      <td>0</td>\n",
              "      <td>...</td>\n",
              "      <td>0</td>\n",
              "      <td>0</td>\n",
              "      <td>0</td>\n",
              "      <td>0</td>\n",
              "      <td>0</td>\n",
              "      <td>0</td>\n",
              "      <td>0</td>\n",
              "      <td>0</td>\n",
              "      <td>0</td>\n",
              "      <td>0</td>\n",
              "    </tr>\n",
              "    <tr>\n",
              "      <th>41996</th>\n",
              "      <td>1</td>\n",
              "      <td>0</td>\n",
              "      <td>0</td>\n",
              "      <td>0</td>\n",
              "      <td>0</td>\n",
              "      <td>0</td>\n",
              "      <td>0</td>\n",
              "      <td>0</td>\n",
              "      <td>0</td>\n",
              "      <td>0</td>\n",
              "      <td>...</td>\n",
              "      <td>0</td>\n",
              "      <td>0</td>\n",
              "      <td>0</td>\n",
              "      <td>0</td>\n",
              "      <td>0</td>\n",
              "      <td>0</td>\n",
              "      <td>0</td>\n",
              "      <td>0</td>\n",
              "      <td>0</td>\n",
              "      <td>0</td>\n",
              "    </tr>\n",
              "    <tr>\n",
              "      <th>41997</th>\n",
              "      <td>7</td>\n",
              "      <td>0</td>\n",
              "      <td>0</td>\n",
              "      <td>0</td>\n",
              "      <td>0</td>\n",
              "      <td>0</td>\n",
              "      <td>0</td>\n",
              "      <td>0</td>\n",
              "      <td>0</td>\n",
              "      <td>0</td>\n",
              "      <td>...</td>\n",
              "      <td>0</td>\n",
              "      <td>0</td>\n",
              "      <td>0</td>\n",
              "      <td>0</td>\n",
              "      <td>0</td>\n",
              "      <td>0</td>\n",
              "      <td>0</td>\n",
              "      <td>0</td>\n",
              "      <td>0</td>\n",
              "      <td>0</td>\n",
              "    </tr>\n",
              "    <tr>\n",
              "      <th>41998</th>\n",
              "      <td>6</td>\n",
              "      <td>0</td>\n",
              "      <td>0</td>\n",
              "      <td>0</td>\n",
              "      <td>0</td>\n",
              "      <td>0</td>\n",
              "      <td>0</td>\n",
              "      <td>0</td>\n",
              "      <td>0</td>\n",
              "      <td>0</td>\n",
              "      <td>...</td>\n",
              "      <td>0</td>\n",
              "      <td>0</td>\n",
              "      <td>0</td>\n",
              "      <td>0</td>\n",
              "      <td>0</td>\n",
              "      <td>0</td>\n",
              "      <td>0</td>\n",
              "      <td>0</td>\n",
              "      <td>0</td>\n",
              "      <td>0</td>\n",
              "    </tr>\n",
              "    <tr>\n",
              "      <th>41999</th>\n",
              "      <td>9</td>\n",
              "      <td>0</td>\n",
              "      <td>0</td>\n",
              "      <td>0</td>\n",
              "      <td>0</td>\n",
              "      <td>0</td>\n",
              "      <td>0</td>\n",
              "      <td>0</td>\n",
              "      <td>0</td>\n",
              "      <td>0</td>\n",
              "      <td>...</td>\n",
              "      <td>0</td>\n",
              "      <td>0</td>\n",
              "      <td>0</td>\n",
              "      <td>0</td>\n",
              "      <td>0</td>\n",
              "      <td>0</td>\n",
              "      <td>0</td>\n",
              "      <td>0</td>\n",
              "      <td>0</td>\n",
              "      <td>0</td>\n",
              "    </tr>\n",
              "  </tbody>\n",
              "</table>\n",
              "<p>42000 rows × 785 columns</p>\n",
              "</div>\n",
              "    <div class=\"colab-df-buttons\">\n",
              "\n",
              "  <div class=\"colab-df-container\">\n",
              "    <button class=\"colab-df-convert\" onclick=\"convertToInteractive('df-251a3864-c514-44cd-80b1-ff899f3eef55')\"\n",
              "            title=\"Convert this dataframe to an interactive table.\"\n",
              "            style=\"display:none;\">\n",
              "\n",
              "  <svg xmlns=\"http://www.w3.org/2000/svg\" height=\"24px\" viewBox=\"0 -960 960 960\">\n",
              "    <path d=\"M120-120v-720h720v720H120Zm60-500h600v-160H180v160Zm220 220h160v-160H400v160Zm0 220h160v-160H400v160ZM180-400h160v-160H180v160Zm440 0h160v-160H620v160ZM180-180h160v-160H180v160Zm440 0h160v-160H620v160Z\"/>\n",
              "  </svg>\n",
              "    </button>\n",
              "\n",
              "  <style>\n",
              "    .colab-df-container {\n",
              "      display:flex;\n",
              "      gap: 12px;\n",
              "    }\n",
              "\n",
              "    .colab-df-convert {\n",
              "      background-color: #E8F0FE;\n",
              "      border: none;\n",
              "      border-radius: 50%;\n",
              "      cursor: pointer;\n",
              "      display: none;\n",
              "      fill: #1967D2;\n",
              "      height: 32px;\n",
              "      padding: 0 0 0 0;\n",
              "      width: 32px;\n",
              "    }\n",
              "\n",
              "    .colab-df-convert:hover {\n",
              "      background-color: #E2EBFA;\n",
              "      box-shadow: 0px 1px 2px rgba(60, 64, 67, 0.3), 0px 1px 3px 1px rgba(60, 64, 67, 0.15);\n",
              "      fill: #174EA6;\n",
              "    }\n",
              "\n",
              "    .colab-df-buttons div {\n",
              "      margin-bottom: 4px;\n",
              "    }\n",
              "\n",
              "    [theme=dark] .colab-df-convert {\n",
              "      background-color: #3B4455;\n",
              "      fill: #D2E3FC;\n",
              "    }\n",
              "\n",
              "    [theme=dark] .colab-df-convert:hover {\n",
              "      background-color: #434B5C;\n",
              "      box-shadow: 0px 1px 3px 1px rgba(0, 0, 0, 0.15);\n",
              "      filter: drop-shadow(0px 1px 2px rgba(0, 0, 0, 0.3));\n",
              "      fill: #FFFFFF;\n",
              "    }\n",
              "  </style>\n",
              "\n",
              "    <script>\n",
              "      const buttonEl =\n",
              "        document.querySelector('#df-251a3864-c514-44cd-80b1-ff899f3eef55 button.colab-df-convert');\n",
              "      buttonEl.style.display =\n",
              "        google.colab.kernel.accessAllowed ? 'block' : 'none';\n",
              "\n",
              "      async function convertToInteractive(key) {\n",
              "        const element = document.querySelector('#df-251a3864-c514-44cd-80b1-ff899f3eef55');\n",
              "        const dataTable =\n",
              "          await google.colab.kernel.invokeFunction('convertToInteractive',\n",
              "                                                    [key], {});\n",
              "        if (!dataTable) return;\n",
              "\n",
              "        const docLinkHtml = 'Like what you see? Visit the ' +\n",
              "          '<a target=\"_blank\" href=https://colab.research.google.com/notebooks/data_table.ipynb>data table notebook</a>'\n",
              "          + ' to learn more about interactive tables.';\n",
              "        element.innerHTML = '';\n",
              "        dataTable['output_type'] = 'display_data';\n",
              "        await google.colab.output.renderOutput(dataTable, element);\n",
              "        const docLink = document.createElement('div');\n",
              "        docLink.innerHTML = docLinkHtml;\n",
              "        element.appendChild(docLink);\n",
              "      }\n",
              "    </script>\n",
              "  </div>\n",
              "\n",
              "\n",
              "<div id=\"df-27851b08-198f-4df0-8192-29d9184b6799\">\n",
              "  <button class=\"colab-df-quickchart\" onclick=\"quickchart('df-27851b08-198f-4df0-8192-29d9184b6799')\"\n",
              "            title=\"Suggest charts\"\n",
              "            style=\"display:none;\">\n",
              "\n",
              "<svg xmlns=\"http://www.w3.org/2000/svg\" height=\"24px\"viewBox=\"0 0 24 24\"\n",
              "     width=\"24px\">\n",
              "    <g>\n",
              "        <path d=\"M19 3H5c-1.1 0-2 .9-2 2v14c0 1.1.9 2 2 2h14c1.1 0 2-.9 2-2V5c0-1.1-.9-2-2-2zM9 17H7v-7h2v7zm4 0h-2V7h2v10zm4 0h-2v-4h2v4z\"/>\n",
              "    </g>\n",
              "</svg>\n",
              "  </button>\n",
              "\n",
              "<style>\n",
              "  .colab-df-quickchart {\n",
              "      --bg-color: #E8F0FE;\n",
              "      --fill-color: #1967D2;\n",
              "      --hover-bg-color: #E2EBFA;\n",
              "      --hover-fill-color: #174EA6;\n",
              "      --disabled-fill-color: #AAA;\n",
              "      --disabled-bg-color: #DDD;\n",
              "  }\n",
              "\n",
              "  [theme=dark] .colab-df-quickchart {\n",
              "      --bg-color: #3B4455;\n",
              "      --fill-color: #D2E3FC;\n",
              "      --hover-bg-color: #434B5C;\n",
              "      --hover-fill-color: #FFFFFF;\n",
              "      --disabled-bg-color: #3B4455;\n",
              "      --disabled-fill-color: #666;\n",
              "  }\n",
              "\n",
              "  .colab-df-quickchart {\n",
              "    background-color: var(--bg-color);\n",
              "    border: none;\n",
              "    border-radius: 50%;\n",
              "    cursor: pointer;\n",
              "    display: none;\n",
              "    fill: var(--fill-color);\n",
              "    height: 32px;\n",
              "    padding: 0;\n",
              "    width: 32px;\n",
              "  }\n",
              "\n",
              "  .colab-df-quickchart:hover {\n",
              "    background-color: var(--hover-bg-color);\n",
              "    box-shadow: 0 1px 2px rgba(60, 64, 67, 0.3), 0 1px 3px 1px rgba(60, 64, 67, 0.15);\n",
              "    fill: var(--button-hover-fill-color);\n",
              "  }\n",
              "\n",
              "  .colab-df-quickchart-complete:disabled,\n",
              "  .colab-df-quickchart-complete:disabled:hover {\n",
              "    background-color: var(--disabled-bg-color);\n",
              "    fill: var(--disabled-fill-color);\n",
              "    box-shadow: none;\n",
              "  }\n",
              "\n",
              "  .colab-df-spinner {\n",
              "    border: 2px solid var(--fill-color);\n",
              "    border-color: transparent;\n",
              "    border-bottom-color: var(--fill-color);\n",
              "    animation:\n",
              "      spin 1s steps(1) infinite;\n",
              "  }\n",
              "\n",
              "  @keyframes spin {\n",
              "    0% {\n",
              "      border-color: transparent;\n",
              "      border-bottom-color: var(--fill-color);\n",
              "      border-left-color: var(--fill-color);\n",
              "    }\n",
              "    20% {\n",
              "      border-color: transparent;\n",
              "      border-left-color: var(--fill-color);\n",
              "      border-top-color: var(--fill-color);\n",
              "    }\n",
              "    30% {\n",
              "      border-color: transparent;\n",
              "      border-left-color: var(--fill-color);\n",
              "      border-top-color: var(--fill-color);\n",
              "      border-right-color: var(--fill-color);\n",
              "    }\n",
              "    40% {\n",
              "      border-color: transparent;\n",
              "      border-right-color: var(--fill-color);\n",
              "      border-top-color: var(--fill-color);\n",
              "    }\n",
              "    60% {\n",
              "      border-color: transparent;\n",
              "      border-right-color: var(--fill-color);\n",
              "    }\n",
              "    80% {\n",
              "      border-color: transparent;\n",
              "      border-right-color: var(--fill-color);\n",
              "      border-bottom-color: var(--fill-color);\n",
              "    }\n",
              "    90% {\n",
              "      border-color: transparent;\n",
              "      border-bottom-color: var(--fill-color);\n",
              "    }\n",
              "  }\n",
              "</style>\n",
              "\n",
              "  <script>\n",
              "    async function quickchart(key) {\n",
              "      const quickchartButtonEl =\n",
              "        document.querySelector('#' + key + ' button');\n",
              "      quickchartButtonEl.disabled = true;  // To prevent multiple clicks.\n",
              "      quickchartButtonEl.classList.add('colab-df-spinner');\n",
              "      try {\n",
              "        const charts = await google.colab.kernel.invokeFunction(\n",
              "            'suggestCharts', [key], {});\n",
              "      } catch (error) {\n",
              "        console.error('Error during call to suggestCharts:', error);\n",
              "      }\n",
              "      quickchartButtonEl.classList.remove('colab-df-spinner');\n",
              "      quickchartButtonEl.classList.add('colab-df-quickchart-complete');\n",
              "    }\n",
              "    (() => {\n",
              "      let quickchartButtonEl =\n",
              "        document.querySelector('#df-27851b08-198f-4df0-8192-29d9184b6799 button');\n",
              "      quickchartButtonEl.style.display =\n",
              "        google.colab.kernel.accessAllowed ? 'block' : 'none';\n",
              "    })();\n",
              "  </script>\n",
              "</div>\n",
              "\n",
              "  <div id=\"id_e0b7d5e8-e15b-46f1-ab76-38c71402c2a4\">\n",
              "    <style>\n",
              "      .colab-df-generate {\n",
              "        background-color: #E8F0FE;\n",
              "        border: none;\n",
              "        border-radius: 50%;\n",
              "        cursor: pointer;\n",
              "        display: none;\n",
              "        fill: #1967D2;\n",
              "        height: 32px;\n",
              "        padding: 0 0 0 0;\n",
              "        width: 32px;\n",
              "      }\n",
              "\n",
              "      .colab-df-generate:hover {\n",
              "        background-color: #E2EBFA;\n",
              "        box-shadow: 0px 1px 2px rgba(60, 64, 67, 0.3), 0px 1px 3px 1px rgba(60, 64, 67, 0.15);\n",
              "        fill: #174EA6;\n",
              "      }\n",
              "\n",
              "      [theme=dark] .colab-df-generate {\n",
              "        background-color: #3B4455;\n",
              "        fill: #D2E3FC;\n",
              "      }\n",
              "\n",
              "      [theme=dark] .colab-df-generate:hover {\n",
              "        background-color: #434B5C;\n",
              "        box-shadow: 0px 1px 3px 1px rgba(0, 0, 0, 0.15);\n",
              "        filter: drop-shadow(0px 1px 2px rgba(0, 0, 0, 0.3));\n",
              "        fill: #FFFFFF;\n",
              "      }\n",
              "    </style>\n",
              "    <button class=\"colab-df-generate\" onclick=\"generateWithVariable('data')\"\n",
              "            title=\"Generate code using this dataframe.\"\n",
              "            style=\"display:none;\">\n",
              "\n",
              "  <svg xmlns=\"http://www.w3.org/2000/svg\" height=\"24px\"viewBox=\"0 0 24 24\"\n",
              "       width=\"24px\">\n",
              "    <path d=\"M7,19H8.4L18.45,9,17,7.55,7,17.6ZM5,21V16.75L18.45,3.32a2,2,0,0,1,2.83,0l1.4,1.43a1.91,1.91,0,0,1,.58,1.4,1.91,1.91,0,0,1-.58,1.4L9.25,21ZM18.45,9,17,7.55Zm-12,3A5.31,5.31,0,0,0,4.9,8.1,5.31,5.31,0,0,0,1,6.5,5.31,5.31,0,0,0,4.9,4.9,5.31,5.31,0,0,0,6.5,1,5.31,5.31,0,0,0,8.1,4.9,5.31,5.31,0,0,0,12,6.5,5.46,5.46,0,0,0,6.5,12Z\"/>\n",
              "  </svg>\n",
              "    </button>\n",
              "    <script>\n",
              "      (() => {\n",
              "      const buttonEl =\n",
              "        document.querySelector('#id_e0b7d5e8-e15b-46f1-ab76-38c71402c2a4 button.colab-df-generate');\n",
              "      buttonEl.style.display =\n",
              "        google.colab.kernel.accessAllowed ? 'block' : 'none';\n",
              "\n",
              "      buttonEl.onclick = () => {\n",
              "        google.colab.notebook.generateWithVariable('data');\n",
              "      }\n",
              "      })();\n",
              "    </script>\n",
              "  </div>\n",
              "\n",
              "    </div>\n",
              "  </div>\n"
            ],
            "application/vnd.google.colaboratory.intrinsic+json": {
              "type": "dataframe",
              "variable_name": "data"
            }
          },
          "metadata": {},
          "execution_count": 7
        }
      ]
    },
    {
      "cell_type": "code",
      "source": [
        "import matplotlib.pyplot as plt"
      ],
      "metadata": {
        "id": "glrgCTdPPJmC"
      },
      "execution_count": 8,
      "outputs": []
    },
    {
      "cell_type": "code",
      "source": [
        "np.random.seed(32)"
      ],
      "metadata": {
        "id": "STBwdKXsPR7A"
      },
      "execution_count": 9,
      "outputs": []
    },
    {
      "cell_type": "code",
      "source": [
        "### define the sigmoid activation function\n",
        "\n",
        "def sigmoid(z):\n",
        "  return 1/(1+np.exp(-z))\n",
        "\n",
        "def sigmoid_derivative(z):\n",
        "  return sigmoid(z)*(1-sigmoid(z))\n"
      ],
      "metadata": {
        "id": "QCRudi-UPZdk"
      },
      "execution_count": 10,
      "outputs": []
    },
    {
      "cell_type": "code",
      "source": [
        "### define the relu activation function\n",
        "\n",
        "def relu(z):\n",
        "  return np.maximum(z,0)\n",
        "\n",
        "def relu_derivative(z):\n",
        "  return z > 0\n"
      ],
      "metadata": {
        "id": "1Ek_ive-P9O6"
      },
      "execution_count": 11,
      "outputs": []
    },
    {
      "cell_type": "code",
      "source": [
        "### define the softmax activation function\n",
        "\n",
        "def softmax(z):\n",
        "  z_max = np.max(z, axis=-1, keepdims=True)\n",
        "  exp_z = np.exp(z - z_max)  # Subtract the max for numerical stability\n",
        "  return exp_z / np.sum(exp_z, axis=-1, keepdims=True)"
      ],
      "metadata": {
        "id": "UjHKiv18QRSn"
      },
      "execution_count": 12,
      "outputs": []
    },
    {
      "cell_type": "code",
      "source": [
        "data.shape"
      ],
      "metadata": {
        "colab": {
          "base_uri": "https://localhost:8080/"
        },
        "id": "FvS1BzEtQT83",
        "outputId": "ed45aad6-ce6a-4fd4-fa4e-622341fad7e7"
      },
      "execution_count": 13,
      "outputs": [
        {
          "output_type": "execute_result",
          "data": {
            "text/plain": [
              "(42000, 785)"
            ]
          },
          "metadata": {},
          "execution_count": 13
        }
      ]
    },
    {
      "cell_type": "code",
      "source": [
        "split = int(data.shape[0] * 0.2)\n",
        "data = data.sample(frac=1)\n",
        "train = data[split:]\n",
        "test = data[:split]"
      ],
      "metadata": {
        "id": "riwCkwh_Q52D"
      },
      "execution_count": 14,
      "outputs": []
    },
    {
      "cell_type": "code",
      "source": [
        "train"
      ],
      "metadata": {
        "colab": {
          "base_uri": "https://localhost:8080/",
          "height": 444
        },
        "id": "0syphKuwSLm1",
        "outputId": "9e703a30-bf8c-4b5c-d5a6-3feec719e25c"
      },
      "execution_count": 15,
      "outputs": [
        {
          "output_type": "execute_result",
          "data": {
            "text/plain": [
              "       label  pixel0  pixel1  pixel2  pixel3  pixel4  pixel5  pixel6  pixel7  \\\n",
              "20443      1       0       0       0       0       0       0       0       0   \n",
              "33440      3       0       0       0       0       0       0       0       0   \n",
              "3859       6       0       0       0       0       0       0       0       0   \n",
              "13726      0       0       0       0       0       0       0       0       0   \n",
              "34849      6       0       0       0       0       0       0       0       0   \n",
              "...      ...     ...     ...     ...     ...     ...     ...     ...     ...   \n",
              "19527      5       0       0       0       0       0       0       0       0   \n",
              "24828      6       0       0       0       0       0       0       0       0   \n",
              "20414      1       0       0       0       0       0       0       0       0   \n",
              "9526       2       0       0       0       0       0       0       0       0   \n",
              "10967      1       0       0       0       0       0       0       0       0   \n",
              "\n",
              "       pixel8  ...  pixel774  pixel775  pixel776  pixel777  pixel778  \\\n",
              "20443       0  ...         0         0         0         0         0   \n",
              "33440       0  ...         0         0         0         0         0   \n",
              "3859        0  ...         0         0         0         0         0   \n",
              "13726       0  ...         0         0         0         0         0   \n",
              "34849       0  ...         0         0         0         0         0   \n",
              "...       ...  ...       ...       ...       ...       ...       ...   \n",
              "19527       0  ...         0         0         0         0         0   \n",
              "24828       0  ...         0         0         0         0         0   \n",
              "20414       0  ...         0         0         0         0         0   \n",
              "9526        0  ...         0         0         0         0         0   \n",
              "10967       0  ...         0         0         0         0         0   \n",
              "\n",
              "       pixel779  pixel780  pixel781  pixel782  pixel783  \n",
              "20443         0         0         0         0         0  \n",
              "33440         0         0         0         0         0  \n",
              "3859          0         0         0         0         0  \n",
              "13726         0         0         0         0         0  \n",
              "34849         0         0         0         0         0  \n",
              "...         ...       ...       ...       ...       ...  \n",
              "19527         0         0         0         0         0  \n",
              "24828         0         0         0         0         0  \n",
              "20414         0         0         0         0         0  \n",
              "9526          0         0         0         0         0  \n",
              "10967         0         0         0         0         0  \n",
              "\n",
              "[33600 rows x 785 columns]"
            ],
            "text/html": [
              "\n",
              "  <div id=\"df-df24e767-4360-44aa-aed9-1ea6fa4f8e12\" class=\"colab-df-container\">\n",
              "    <div>\n",
              "<style scoped>\n",
              "    .dataframe tbody tr th:only-of-type {\n",
              "        vertical-align: middle;\n",
              "    }\n",
              "\n",
              "    .dataframe tbody tr th {\n",
              "        vertical-align: top;\n",
              "    }\n",
              "\n",
              "    .dataframe thead th {\n",
              "        text-align: right;\n",
              "    }\n",
              "</style>\n",
              "<table border=\"1\" class=\"dataframe\">\n",
              "  <thead>\n",
              "    <tr style=\"text-align: right;\">\n",
              "      <th></th>\n",
              "      <th>label</th>\n",
              "      <th>pixel0</th>\n",
              "      <th>pixel1</th>\n",
              "      <th>pixel2</th>\n",
              "      <th>pixel3</th>\n",
              "      <th>pixel4</th>\n",
              "      <th>pixel5</th>\n",
              "      <th>pixel6</th>\n",
              "      <th>pixel7</th>\n",
              "      <th>pixel8</th>\n",
              "      <th>...</th>\n",
              "      <th>pixel774</th>\n",
              "      <th>pixel775</th>\n",
              "      <th>pixel776</th>\n",
              "      <th>pixel777</th>\n",
              "      <th>pixel778</th>\n",
              "      <th>pixel779</th>\n",
              "      <th>pixel780</th>\n",
              "      <th>pixel781</th>\n",
              "      <th>pixel782</th>\n",
              "      <th>pixel783</th>\n",
              "    </tr>\n",
              "  </thead>\n",
              "  <tbody>\n",
              "    <tr>\n",
              "      <th>20443</th>\n",
              "      <td>1</td>\n",
              "      <td>0</td>\n",
              "      <td>0</td>\n",
              "      <td>0</td>\n",
              "      <td>0</td>\n",
              "      <td>0</td>\n",
              "      <td>0</td>\n",
              "      <td>0</td>\n",
              "      <td>0</td>\n",
              "      <td>0</td>\n",
              "      <td>...</td>\n",
              "      <td>0</td>\n",
              "      <td>0</td>\n",
              "      <td>0</td>\n",
              "      <td>0</td>\n",
              "      <td>0</td>\n",
              "      <td>0</td>\n",
              "      <td>0</td>\n",
              "      <td>0</td>\n",
              "      <td>0</td>\n",
              "      <td>0</td>\n",
              "    </tr>\n",
              "    <tr>\n",
              "      <th>33440</th>\n",
              "      <td>3</td>\n",
              "      <td>0</td>\n",
              "      <td>0</td>\n",
              "      <td>0</td>\n",
              "      <td>0</td>\n",
              "      <td>0</td>\n",
              "      <td>0</td>\n",
              "      <td>0</td>\n",
              "      <td>0</td>\n",
              "      <td>0</td>\n",
              "      <td>...</td>\n",
              "      <td>0</td>\n",
              "      <td>0</td>\n",
              "      <td>0</td>\n",
              "      <td>0</td>\n",
              "      <td>0</td>\n",
              "      <td>0</td>\n",
              "      <td>0</td>\n",
              "      <td>0</td>\n",
              "      <td>0</td>\n",
              "      <td>0</td>\n",
              "    </tr>\n",
              "    <tr>\n",
              "      <th>3859</th>\n",
              "      <td>6</td>\n",
              "      <td>0</td>\n",
              "      <td>0</td>\n",
              "      <td>0</td>\n",
              "      <td>0</td>\n",
              "      <td>0</td>\n",
              "      <td>0</td>\n",
              "      <td>0</td>\n",
              "      <td>0</td>\n",
              "      <td>0</td>\n",
              "      <td>...</td>\n",
              "      <td>0</td>\n",
              "      <td>0</td>\n",
              "      <td>0</td>\n",
              "      <td>0</td>\n",
              "      <td>0</td>\n",
              "      <td>0</td>\n",
              "      <td>0</td>\n",
              "      <td>0</td>\n",
              "      <td>0</td>\n",
              "      <td>0</td>\n",
              "    </tr>\n",
              "    <tr>\n",
              "      <th>13726</th>\n",
              "      <td>0</td>\n",
              "      <td>0</td>\n",
              "      <td>0</td>\n",
              "      <td>0</td>\n",
              "      <td>0</td>\n",
              "      <td>0</td>\n",
              "      <td>0</td>\n",
              "      <td>0</td>\n",
              "      <td>0</td>\n",
              "      <td>0</td>\n",
              "      <td>...</td>\n",
              "      <td>0</td>\n",
              "      <td>0</td>\n",
              "      <td>0</td>\n",
              "      <td>0</td>\n",
              "      <td>0</td>\n",
              "      <td>0</td>\n",
              "      <td>0</td>\n",
              "      <td>0</td>\n",
              "      <td>0</td>\n",
              "      <td>0</td>\n",
              "    </tr>\n",
              "    <tr>\n",
              "      <th>34849</th>\n",
              "      <td>6</td>\n",
              "      <td>0</td>\n",
              "      <td>0</td>\n",
              "      <td>0</td>\n",
              "      <td>0</td>\n",
              "      <td>0</td>\n",
              "      <td>0</td>\n",
              "      <td>0</td>\n",
              "      <td>0</td>\n",
              "      <td>0</td>\n",
              "      <td>...</td>\n",
              "      <td>0</td>\n",
              "      <td>0</td>\n",
              "      <td>0</td>\n",
              "      <td>0</td>\n",
              "      <td>0</td>\n",
              "      <td>0</td>\n",
              "      <td>0</td>\n",
              "      <td>0</td>\n",
              "      <td>0</td>\n",
              "      <td>0</td>\n",
              "    </tr>\n",
              "    <tr>\n",
              "      <th>...</th>\n",
              "      <td>...</td>\n",
              "      <td>...</td>\n",
              "      <td>...</td>\n",
              "      <td>...</td>\n",
              "      <td>...</td>\n",
              "      <td>...</td>\n",
              "      <td>...</td>\n",
              "      <td>...</td>\n",
              "      <td>...</td>\n",
              "      <td>...</td>\n",
              "      <td>...</td>\n",
              "      <td>...</td>\n",
              "      <td>...</td>\n",
              "      <td>...</td>\n",
              "      <td>...</td>\n",
              "      <td>...</td>\n",
              "      <td>...</td>\n",
              "      <td>...</td>\n",
              "      <td>...</td>\n",
              "      <td>...</td>\n",
              "      <td>...</td>\n",
              "    </tr>\n",
              "    <tr>\n",
              "      <th>19527</th>\n",
              "      <td>5</td>\n",
              "      <td>0</td>\n",
              "      <td>0</td>\n",
              "      <td>0</td>\n",
              "      <td>0</td>\n",
              "      <td>0</td>\n",
              "      <td>0</td>\n",
              "      <td>0</td>\n",
              "      <td>0</td>\n",
              "      <td>0</td>\n",
              "      <td>...</td>\n",
              "      <td>0</td>\n",
              "      <td>0</td>\n",
              "      <td>0</td>\n",
              "      <td>0</td>\n",
              "      <td>0</td>\n",
              "      <td>0</td>\n",
              "      <td>0</td>\n",
              "      <td>0</td>\n",
              "      <td>0</td>\n",
              "      <td>0</td>\n",
              "    </tr>\n",
              "    <tr>\n",
              "      <th>24828</th>\n",
              "      <td>6</td>\n",
              "      <td>0</td>\n",
              "      <td>0</td>\n",
              "      <td>0</td>\n",
              "      <td>0</td>\n",
              "      <td>0</td>\n",
              "      <td>0</td>\n",
              "      <td>0</td>\n",
              "      <td>0</td>\n",
              "      <td>0</td>\n",
              "      <td>...</td>\n",
              "      <td>0</td>\n",
              "      <td>0</td>\n",
              "      <td>0</td>\n",
              "      <td>0</td>\n",
              "      <td>0</td>\n",
              "      <td>0</td>\n",
              "      <td>0</td>\n",
              "      <td>0</td>\n",
              "      <td>0</td>\n",
              "      <td>0</td>\n",
              "    </tr>\n",
              "    <tr>\n",
              "      <th>20414</th>\n",
              "      <td>1</td>\n",
              "      <td>0</td>\n",
              "      <td>0</td>\n",
              "      <td>0</td>\n",
              "      <td>0</td>\n",
              "      <td>0</td>\n",
              "      <td>0</td>\n",
              "      <td>0</td>\n",
              "      <td>0</td>\n",
              "      <td>0</td>\n",
              "      <td>...</td>\n",
              "      <td>0</td>\n",
              "      <td>0</td>\n",
              "      <td>0</td>\n",
              "      <td>0</td>\n",
              "      <td>0</td>\n",
              "      <td>0</td>\n",
              "      <td>0</td>\n",
              "      <td>0</td>\n",
              "      <td>0</td>\n",
              "      <td>0</td>\n",
              "    </tr>\n",
              "    <tr>\n",
              "      <th>9526</th>\n",
              "      <td>2</td>\n",
              "      <td>0</td>\n",
              "      <td>0</td>\n",
              "      <td>0</td>\n",
              "      <td>0</td>\n",
              "      <td>0</td>\n",
              "      <td>0</td>\n",
              "      <td>0</td>\n",
              "      <td>0</td>\n",
              "      <td>0</td>\n",
              "      <td>...</td>\n",
              "      <td>0</td>\n",
              "      <td>0</td>\n",
              "      <td>0</td>\n",
              "      <td>0</td>\n",
              "      <td>0</td>\n",
              "      <td>0</td>\n",
              "      <td>0</td>\n",
              "      <td>0</td>\n",
              "      <td>0</td>\n",
              "      <td>0</td>\n",
              "    </tr>\n",
              "    <tr>\n",
              "      <th>10967</th>\n",
              "      <td>1</td>\n",
              "      <td>0</td>\n",
              "      <td>0</td>\n",
              "      <td>0</td>\n",
              "      <td>0</td>\n",
              "      <td>0</td>\n",
              "      <td>0</td>\n",
              "      <td>0</td>\n",
              "      <td>0</td>\n",
              "      <td>0</td>\n",
              "      <td>...</td>\n",
              "      <td>0</td>\n",
              "      <td>0</td>\n",
              "      <td>0</td>\n",
              "      <td>0</td>\n",
              "      <td>0</td>\n",
              "      <td>0</td>\n",
              "      <td>0</td>\n",
              "      <td>0</td>\n",
              "      <td>0</td>\n",
              "      <td>0</td>\n",
              "    </tr>\n",
              "  </tbody>\n",
              "</table>\n",
              "<p>33600 rows × 785 columns</p>\n",
              "</div>\n",
              "    <div class=\"colab-df-buttons\">\n",
              "\n",
              "  <div class=\"colab-df-container\">\n",
              "    <button class=\"colab-df-convert\" onclick=\"convertToInteractive('df-df24e767-4360-44aa-aed9-1ea6fa4f8e12')\"\n",
              "            title=\"Convert this dataframe to an interactive table.\"\n",
              "            style=\"display:none;\">\n",
              "\n",
              "  <svg xmlns=\"http://www.w3.org/2000/svg\" height=\"24px\" viewBox=\"0 -960 960 960\">\n",
              "    <path d=\"M120-120v-720h720v720H120Zm60-500h600v-160H180v160Zm220 220h160v-160H400v160Zm0 220h160v-160H400v160ZM180-400h160v-160H180v160Zm440 0h160v-160H620v160ZM180-180h160v-160H180v160Zm440 0h160v-160H620v160Z\"/>\n",
              "  </svg>\n",
              "    </button>\n",
              "\n",
              "  <style>\n",
              "    .colab-df-container {\n",
              "      display:flex;\n",
              "      gap: 12px;\n",
              "    }\n",
              "\n",
              "    .colab-df-convert {\n",
              "      background-color: #E8F0FE;\n",
              "      border: none;\n",
              "      border-radius: 50%;\n",
              "      cursor: pointer;\n",
              "      display: none;\n",
              "      fill: #1967D2;\n",
              "      height: 32px;\n",
              "      padding: 0 0 0 0;\n",
              "      width: 32px;\n",
              "    }\n",
              "\n",
              "    .colab-df-convert:hover {\n",
              "      background-color: #E2EBFA;\n",
              "      box-shadow: 0px 1px 2px rgba(60, 64, 67, 0.3), 0px 1px 3px 1px rgba(60, 64, 67, 0.15);\n",
              "      fill: #174EA6;\n",
              "    }\n",
              "\n",
              "    .colab-df-buttons div {\n",
              "      margin-bottom: 4px;\n",
              "    }\n",
              "\n",
              "    [theme=dark] .colab-df-convert {\n",
              "      background-color: #3B4455;\n",
              "      fill: #D2E3FC;\n",
              "    }\n",
              "\n",
              "    [theme=dark] .colab-df-convert:hover {\n",
              "      background-color: #434B5C;\n",
              "      box-shadow: 0px 1px 3px 1px rgba(0, 0, 0, 0.15);\n",
              "      filter: drop-shadow(0px 1px 2px rgba(0, 0, 0, 0.3));\n",
              "      fill: #FFFFFF;\n",
              "    }\n",
              "  </style>\n",
              "\n",
              "    <script>\n",
              "      const buttonEl =\n",
              "        document.querySelector('#df-df24e767-4360-44aa-aed9-1ea6fa4f8e12 button.colab-df-convert');\n",
              "      buttonEl.style.display =\n",
              "        google.colab.kernel.accessAllowed ? 'block' : 'none';\n",
              "\n",
              "      async function convertToInteractive(key) {\n",
              "        const element = document.querySelector('#df-df24e767-4360-44aa-aed9-1ea6fa4f8e12');\n",
              "        const dataTable =\n",
              "          await google.colab.kernel.invokeFunction('convertToInteractive',\n",
              "                                                    [key], {});\n",
              "        if (!dataTable) return;\n",
              "\n",
              "        const docLinkHtml = 'Like what you see? Visit the ' +\n",
              "          '<a target=\"_blank\" href=https://colab.research.google.com/notebooks/data_table.ipynb>data table notebook</a>'\n",
              "          + ' to learn more about interactive tables.';\n",
              "        element.innerHTML = '';\n",
              "        dataTable['output_type'] = 'display_data';\n",
              "        await google.colab.output.renderOutput(dataTable, element);\n",
              "        const docLink = document.createElement('div');\n",
              "        docLink.innerHTML = docLinkHtml;\n",
              "        element.appendChild(docLink);\n",
              "      }\n",
              "    </script>\n",
              "  </div>\n",
              "\n",
              "\n",
              "<div id=\"df-85300542-4c59-40d4-9348-ac89b5717da5\">\n",
              "  <button class=\"colab-df-quickchart\" onclick=\"quickchart('df-85300542-4c59-40d4-9348-ac89b5717da5')\"\n",
              "            title=\"Suggest charts\"\n",
              "            style=\"display:none;\">\n",
              "\n",
              "<svg xmlns=\"http://www.w3.org/2000/svg\" height=\"24px\"viewBox=\"0 0 24 24\"\n",
              "     width=\"24px\">\n",
              "    <g>\n",
              "        <path d=\"M19 3H5c-1.1 0-2 .9-2 2v14c0 1.1.9 2 2 2h14c1.1 0 2-.9 2-2V5c0-1.1-.9-2-2-2zM9 17H7v-7h2v7zm4 0h-2V7h2v10zm4 0h-2v-4h2v4z\"/>\n",
              "    </g>\n",
              "</svg>\n",
              "  </button>\n",
              "\n",
              "<style>\n",
              "  .colab-df-quickchart {\n",
              "      --bg-color: #E8F0FE;\n",
              "      --fill-color: #1967D2;\n",
              "      --hover-bg-color: #E2EBFA;\n",
              "      --hover-fill-color: #174EA6;\n",
              "      --disabled-fill-color: #AAA;\n",
              "      --disabled-bg-color: #DDD;\n",
              "  }\n",
              "\n",
              "  [theme=dark] .colab-df-quickchart {\n",
              "      --bg-color: #3B4455;\n",
              "      --fill-color: #D2E3FC;\n",
              "      --hover-bg-color: #434B5C;\n",
              "      --hover-fill-color: #FFFFFF;\n",
              "      --disabled-bg-color: #3B4455;\n",
              "      --disabled-fill-color: #666;\n",
              "  }\n",
              "\n",
              "  .colab-df-quickchart {\n",
              "    background-color: var(--bg-color);\n",
              "    border: none;\n",
              "    border-radius: 50%;\n",
              "    cursor: pointer;\n",
              "    display: none;\n",
              "    fill: var(--fill-color);\n",
              "    height: 32px;\n",
              "    padding: 0;\n",
              "    width: 32px;\n",
              "  }\n",
              "\n",
              "  .colab-df-quickchart:hover {\n",
              "    background-color: var(--hover-bg-color);\n",
              "    box-shadow: 0 1px 2px rgba(60, 64, 67, 0.3), 0 1px 3px 1px rgba(60, 64, 67, 0.15);\n",
              "    fill: var(--button-hover-fill-color);\n",
              "  }\n",
              "\n",
              "  .colab-df-quickchart-complete:disabled,\n",
              "  .colab-df-quickchart-complete:disabled:hover {\n",
              "    background-color: var(--disabled-bg-color);\n",
              "    fill: var(--disabled-fill-color);\n",
              "    box-shadow: none;\n",
              "  }\n",
              "\n",
              "  .colab-df-spinner {\n",
              "    border: 2px solid var(--fill-color);\n",
              "    border-color: transparent;\n",
              "    border-bottom-color: var(--fill-color);\n",
              "    animation:\n",
              "      spin 1s steps(1) infinite;\n",
              "  }\n",
              "\n",
              "  @keyframes spin {\n",
              "    0% {\n",
              "      border-color: transparent;\n",
              "      border-bottom-color: var(--fill-color);\n",
              "      border-left-color: var(--fill-color);\n",
              "    }\n",
              "    20% {\n",
              "      border-color: transparent;\n",
              "      border-left-color: var(--fill-color);\n",
              "      border-top-color: var(--fill-color);\n",
              "    }\n",
              "    30% {\n",
              "      border-color: transparent;\n",
              "      border-left-color: var(--fill-color);\n",
              "      border-top-color: var(--fill-color);\n",
              "      border-right-color: var(--fill-color);\n",
              "    }\n",
              "    40% {\n",
              "      border-color: transparent;\n",
              "      border-right-color: var(--fill-color);\n",
              "      border-top-color: var(--fill-color);\n",
              "    }\n",
              "    60% {\n",
              "      border-color: transparent;\n",
              "      border-right-color: var(--fill-color);\n",
              "    }\n",
              "    80% {\n",
              "      border-color: transparent;\n",
              "      border-right-color: var(--fill-color);\n",
              "      border-bottom-color: var(--fill-color);\n",
              "    }\n",
              "    90% {\n",
              "      border-color: transparent;\n",
              "      border-bottom-color: var(--fill-color);\n",
              "    }\n",
              "  }\n",
              "</style>\n",
              "\n",
              "  <script>\n",
              "    async function quickchart(key) {\n",
              "      const quickchartButtonEl =\n",
              "        document.querySelector('#' + key + ' button');\n",
              "      quickchartButtonEl.disabled = true;  // To prevent multiple clicks.\n",
              "      quickchartButtonEl.classList.add('colab-df-spinner');\n",
              "      try {\n",
              "        const charts = await google.colab.kernel.invokeFunction(\n",
              "            'suggestCharts', [key], {});\n",
              "      } catch (error) {\n",
              "        console.error('Error during call to suggestCharts:', error);\n",
              "      }\n",
              "      quickchartButtonEl.classList.remove('colab-df-spinner');\n",
              "      quickchartButtonEl.classList.add('colab-df-quickchart-complete');\n",
              "    }\n",
              "    (() => {\n",
              "      let quickchartButtonEl =\n",
              "        document.querySelector('#df-85300542-4c59-40d4-9348-ac89b5717da5 button');\n",
              "      quickchartButtonEl.style.display =\n",
              "        google.colab.kernel.accessAllowed ? 'block' : 'none';\n",
              "    })();\n",
              "  </script>\n",
              "</div>\n",
              "\n",
              "  <div id=\"id_91f7fffa-8de4-4303-acb9-5ae610781011\">\n",
              "    <style>\n",
              "      .colab-df-generate {\n",
              "        background-color: #E8F0FE;\n",
              "        border: none;\n",
              "        border-radius: 50%;\n",
              "        cursor: pointer;\n",
              "        display: none;\n",
              "        fill: #1967D2;\n",
              "        height: 32px;\n",
              "        padding: 0 0 0 0;\n",
              "        width: 32px;\n",
              "      }\n",
              "\n",
              "      .colab-df-generate:hover {\n",
              "        background-color: #E2EBFA;\n",
              "        box-shadow: 0px 1px 2px rgba(60, 64, 67, 0.3), 0px 1px 3px 1px rgba(60, 64, 67, 0.15);\n",
              "        fill: #174EA6;\n",
              "      }\n",
              "\n",
              "      [theme=dark] .colab-df-generate {\n",
              "        background-color: #3B4455;\n",
              "        fill: #D2E3FC;\n",
              "      }\n",
              "\n",
              "      [theme=dark] .colab-df-generate:hover {\n",
              "        background-color: #434B5C;\n",
              "        box-shadow: 0px 1px 3px 1px rgba(0, 0, 0, 0.15);\n",
              "        filter: drop-shadow(0px 1px 2px rgba(0, 0, 0, 0.3));\n",
              "        fill: #FFFFFF;\n",
              "      }\n",
              "    </style>\n",
              "    <button class=\"colab-df-generate\" onclick=\"generateWithVariable('train')\"\n",
              "            title=\"Generate code using this dataframe.\"\n",
              "            style=\"display:none;\">\n",
              "\n",
              "  <svg xmlns=\"http://www.w3.org/2000/svg\" height=\"24px\"viewBox=\"0 0 24 24\"\n",
              "       width=\"24px\">\n",
              "    <path d=\"M7,19H8.4L18.45,9,17,7.55,7,17.6ZM5,21V16.75L18.45,3.32a2,2,0,0,1,2.83,0l1.4,1.43a1.91,1.91,0,0,1,.58,1.4,1.91,1.91,0,0,1-.58,1.4L9.25,21ZM18.45,9,17,7.55Zm-12,3A5.31,5.31,0,0,0,4.9,8.1,5.31,5.31,0,0,0,1,6.5,5.31,5.31,0,0,0,4.9,4.9,5.31,5.31,0,0,0,6.5,1,5.31,5.31,0,0,0,8.1,4.9,5.31,5.31,0,0,0,12,6.5,5.46,5.46,0,0,0,6.5,12Z\"/>\n",
              "  </svg>\n",
              "    </button>\n",
              "    <script>\n",
              "      (() => {\n",
              "      const buttonEl =\n",
              "        document.querySelector('#id_91f7fffa-8de4-4303-acb9-5ae610781011 button.colab-df-generate');\n",
              "      buttonEl.style.display =\n",
              "        google.colab.kernel.accessAllowed ? 'block' : 'none';\n",
              "\n",
              "      buttonEl.onclick = () => {\n",
              "        google.colab.notebook.generateWithVariable('train');\n",
              "      }\n",
              "      })();\n",
              "    </script>\n",
              "  </div>\n",
              "\n",
              "    </div>\n",
              "  </div>\n"
            ],
            "application/vnd.google.colaboratory.intrinsic+json": {
              "type": "dataframe",
              "variable_name": "train"
            }
          },
          "metadata": {},
          "execution_count": 15
        }
      ]
    },
    {
      "cell_type": "code",
      "source": [
        "def onehot_encoding(data):\n",
        "  data = data.T\n",
        "  labels = np.unique(data)\n",
        "  size = len(labels)\n",
        "  ohe_data = np.zeros((data.size, data.max()+1))\n",
        "  ohe_data[np.arange(data.size), data] = 1\n",
        "  return ohe_data\n",
        "\n",
        "def xy_split(data):\n",
        "  data = np.array(data)\n",
        "  return data[:,:1], data[:,1:]"
      ],
      "metadata": {
        "id": "o7hD9m3lSRnX"
      },
      "execution_count": 16,
      "outputs": []
    },
    {
      "cell_type": "code",
      "source": [
        "y_train, X_train = xy_split(train)\n",
        "y_test, X_test = xy_split(test)\n",
        "print(f\"{y_train.shape=}, {X_train.shape=}\")"
      ],
      "metadata": {
        "colab": {
          "base_uri": "https://localhost:8080/"
        },
        "id": "qd0Q2HteTgYg",
        "outputId": "16e06600-fe3e-4c58-a52e-272f34a376b0"
      },
      "execution_count": 17,
      "outputs": [
        {
          "output_type": "stream",
          "name": "stdout",
          "text": [
            "y_train.shape=(33600, 1), X_train.shape=(33600, 784)\n"
          ]
        }
      ]
    },
    {
      "cell_type": "code",
      "source": [
        "ohe_y_train = onehot_encoding(y_train)\n",
        "ohe_y_test = onehot_encoding(y_test)\n",
        "ohe_y_train.shape"
      ],
      "metadata": {
        "colab": {
          "base_uri": "https://localhost:8080/"
        },
        "id": "eFC38QHGX45b",
        "outputId": "d77cee12-c620-4bb0-8121-43e8e87bf2aa"
      },
      "execution_count": 18,
      "outputs": [
        {
          "output_type": "execute_result",
          "data": {
            "text/plain": [
              "(33600, 10)"
            ]
          },
          "metadata": {},
          "execution_count": 18
        }
      ]
    },
    {
      "cell_type": "code",
      "source": [
        "class Config:\n",
        "    input_nodes = X_train.shape[1]\n",
        "    n_classes = len(np.unique(y_train))\n",
        "    learning_rate = 0.0001\n",
        "    epochs = 50\n",
        "    batch_size = 32"
      ],
      "metadata": {
        "id": "0WIxpjqPYGCI"
      },
      "execution_count": 19,
      "outputs": []
    },
    {
      "cell_type": "code",
      "source": [
        "class BatchGenerator:\n",
        "    def __init__(self, X_data, y_data, batch_size):\n",
        "        self.X_data = X_data\n",
        "        self.y_data = y_data\n",
        "        self.batch_size = batch_size\n",
        "        self.num_samples = len(X_data)\n",
        "        self.num_batches = int(np.ceil(self.num_samples / self.batch_size))\n",
        "        self.current_batch = 0\n",
        "\n",
        "    def __len__(self):\n",
        "        return self.num_batches\n",
        "\n",
        "    def __iter__(self):\n",
        "        return self\n",
        "\n",
        "    def __next__(self):\n",
        "        start_idx = self.current_batch * self.batch_size\n",
        "        end_idx = min(start_idx + self.batch_size, self.num_samples)\n",
        "\n",
        "        if start_idx >= self.num_samples:\n",
        "            self.current_batch = 0\n",
        "            raise StopIteration\n",
        "\n",
        "        batch_X = self.X_data[start_idx:end_idx]\n",
        "        batch_y = self.y_data[start_idx:end_idx]\n",
        "\n",
        "        self.current_batch += 1\n",
        "\n",
        "        return batch_X, batch_y\n",
        "\n",
        "    def reset_iterator(self):\n",
        "        self.current_batch = 0"
      ],
      "metadata": {
        "id": "kONVN1X-bL6p"
      },
      "execution_count": 20,
      "outputs": []
    },
    {
      "cell_type": "code",
      "source": [
        "# Create data loaders\n",
        "train_loader = BatchGenerator(X_train, ohe_y_train, Config.batch_size)\n",
        "test_loader = BatchGenerator(X_test, ohe_y_test, Config.batch_size)\n",
        "\n",
        "# Print shapes\n",
        "batch_X, batch_y = next(iter(train_loader))\n",
        "train_loader.reset_iterator()\n",
        "print(f\"Input Shape: {batch_X.shape}, Output Shape: {batch_y.shape}\")"
      ],
      "metadata": {
        "colab": {
          "base_uri": "https://localhost:8080/"
        },
        "id": "QPIz9Hb0ZYQd",
        "outputId": "7876651f-883e-47d7-b7ab-32b112576826"
      },
      "execution_count": 21,
      "outputs": [
        {
          "output_type": "stream",
          "name": "stdout",
          "text": [
            "Input Shape: (32, 784), Output Shape: (32, 10)\n"
          ]
        }
      ]
    },
    {
      "cell_type": "code",
      "source": [
        "### defining a layer class for a linear layer of the neural network\n",
        "\n",
        "class Linear:\n",
        "  def __init__(self, input_nodes, output_nodes, activation):\n",
        "    self.input_nodes = input_nodes\n",
        "    self.output_nodes = output_nodes\n",
        "    self.activation = activation\n",
        "    self.w = None\n",
        "    self.b = None\n",
        "    self.init_params()\n",
        "    self.layer_type = 'Linear'\n",
        "\n",
        "  def init_params(self):\n",
        "    # using Xavier uniform init\n",
        "    input_units = self.input_nodes\n",
        "    output_units = self.output_nodes\n",
        "    self.w = np.random.uniform(\n",
        "        low = -np.sqrt(6.0 / (input_units + output_units)),\n",
        "        high = np.sqrt(6.0 / (input_units + output_units)),\n",
        "        size = (input_units, output_units)\n",
        "    )\n",
        "    self.b = np.zeros(output_units)\n",
        "\n",
        "  def _forward(self, inputs):\n",
        "    # z = w * X + B\n",
        "    z = np.matmul(inputs, self.w) + self.b\n",
        "    if self.activation == 'relu':\n",
        "      a = relu(z)\n",
        "    elif self.activation == 'softmax':\n",
        "      a = softmax(z)\n",
        "    else:\n",
        "      raise ValueError('Activation function not valid!')\n",
        "    return a, z\n",
        "\n",
        "\n",
        "  def _backward(self, error, A_before, W_prev, Z_curr):\n",
        "  # Compute dZ based on activation function\n",
        "    if self.activation == 'relu':\n",
        "        # For ReLU: dZ = error * relu_derivative(Z_curr)\n",
        "        error = np.multiply(\n",
        "            np.matmul(error, W_prev.T), relu_derivative(Z_curr)\n",
        "        )\n",
        "    elif self.activation == 'sigmoid':\n",
        "        # For Sigmoid: dZ = error * sigmoid_derivative(Z_curr)\n",
        "        error = np.multiply(\n",
        "            np.matmul(error, W_prev.T), sigmoid_derivative(Z_curr)\n",
        "        )\n",
        "\n",
        "    # Compute gradients\n",
        "    dW = np.matmul(A_before.T, error)\n",
        "    db = np.sum(error, axis=0)\n",
        "\n",
        "    return dW, db, error\n"
      ],
      "metadata": {
        "id": "fLNbsUfOb2pw"
      },
      "execution_count": 22,
      "outputs": []
    },
    {
      "cell_type": "code",
      "source": [
        "class NeuralNetwork:\n",
        "  def __init__(self, network=None):\n",
        "    self.network = [] if network is None else network\n",
        "    self.architecture = {}\n",
        "    self.parameters = {}\n",
        "    self._z = []\n",
        "    self._a = []\n",
        "    self.weight_gradients = []\n",
        "    self.bias_gradients = []\n",
        "    self._compiled = False\n",
        "\n",
        "  def __str__(self):\n",
        "      architect = \"\\n\".join([str(item) for item in self.architecture.items()])\n",
        "      return \"\\n\".join([\"-\"*100, architect, \"-\"*100])\n",
        "\n",
        "  def __call__(self, x, requires_gradients=True):\n",
        "      return self.forward(x, requires_gradients=requires_gradients)\n",
        "\n",
        "  def add(self, layer):\n",
        "      if not self._compiled:\n",
        "          self.network.append(layer)\n",
        "      else:\n",
        "          raise RuntimeError(\"Cannot add layers after compiling.\")\n",
        "\n",
        "  def compile(self):\n",
        "    if self._compiled:\n",
        "      raise RuntimeError('Network already compiled!')\n",
        "    else:\n",
        "      self.build_parameters()\n",
        "      for i, layer in enumerate(self.network):\n",
        "        self.architecture[f'Layer_{i}'] = {\n",
        "            \"Layer Type\": layer.layer_type,\n",
        "            \"Input nodes\": layer.input_nodes,\n",
        "            \"Output nodes\": layer.output_nodes,\n",
        "            \"Activation\": layer.activation\n",
        "        }\n",
        "\n",
        "  def build_parameters(self):\n",
        "      for i, layer in enumerate(self.network):\n",
        "          self.parameters[f'Layer.{i}.{layer.layer_type}'] = {\n",
        "              'weights': layer.w,\n",
        "              'biases': layer.b\n",
        "          }\n",
        "\n",
        "  def forward(self, x, requires_gradients=True):\n",
        "    if requires_gradients:\n",
        "      self._a.append(x)\n",
        "    for layer in self.network:\n",
        "      a_curr, z_curr = layer._forward(x)\n",
        "      if requires_gradients:\n",
        "        self._a.append(a_curr)\n",
        "        self._z.append(z_curr)\n",
        "      x = a_curr\n",
        "    return a_curr\n",
        "\n",
        "  def zero_gradients(self):\n",
        "    self.weight_gradients = []\n",
        "    self.bias_gradients = []\n",
        "    self._z = []\n",
        "    self._a = []\n",
        "\n",
        "  def backward(self, prediction, true):\n",
        "      error = prediction - true\n",
        "      self.weight_gradients = []\n",
        "      self.bias_gradients = []\n",
        "\n",
        "      for i in reversed(range(len(self.network))):\n",
        "          layer = self.network[i]\n",
        "          if i == len(self.network) - 1:\n",
        "              w_prev = None\n",
        "          else:\n",
        "              w_prev = self.parameters[f'Layer.{i + 1}.{self.network[i + 1].layer_type}']['weights']\n",
        "\n",
        "          dw, db, error = layer._backward(\n",
        "              error,\n",
        "              self._a[i],\n",
        "              w_prev,\n",
        "              self._z[i]\n",
        "          )\n",
        "          self.weight_gradients.insert(0, dw)\n",
        "          self.bias_gradients.insert(0, db)\n",
        "\n",
        "  def step(self, learning_rate):\n",
        "        for i, key in enumerate(list(self.parameters.keys())):\n",
        "          self.parameters[key]['weights'] -= learning_rate * self.weight_gradients[i]\n",
        "          self.parameters[key]['biases'] -= learning_rate * self.bias_gradients[i]\n",
        "\n"
      ],
      "metadata": {
        "id": "QZTB-ocrIK0l"
      },
      "execution_count": 23,
      "outputs": []
    },
    {
      "cell_type": "code",
      "source": [
        "def cross_entropy(y_pred, y_true, epsilon=1e-10):\n",
        "    y_pred = np.clip(y_pred, epsilon, 1 - epsilon)  # Clip values to avoid log(0)\n",
        "    return -np.mean(np.sum(y_true * np.log(y_pred), axis=-1))"
      ],
      "metadata": {
        "id": "stTkOYq4Nkkp"
      },
      "execution_count": 24,
      "outputs": []
    },
    {
      "cell_type": "code",
      "source": [
        "model = NeuralNetwork([\n",
        "    Linear(Config.input_nodes, 128, 'relu'),\n",
        "    Linear(128, 64, 'relu'),\n",
        "    Linear(64, Config.n_classes, 'softmax')\n",
        "])\n",
        "\n",
        "model.compile()"
      ],
      "metadata": {
        "id": "DXUihH8JOO2l"
      },
      "execution_count": 25,
      "outputs": []
    },
    {
      "cell_type": "code",
      "source": [
        "print(model)"
      ],
      "metadata": {
        "colab": {
          "base_uri": "https://localhost:8080/"
        },
        "id": "3efdonvfOX9d",
        "outputId": "24df56f8-911b-45a1-ff4b-a4ffa0247bff"
      },
      "execution_count": 26,
      "outputs": [
        {
          "output_type": "stream",
          "name": "stdout",
          "text": [
            "----------------------------------------------------------------------------------------------------\n",
            "('Layer_0', {'Layer Type': 'Linear', 'Input nodes': 784, 'Output nodes': 128, 'Activation': 'relu'})\n",
            "('Layer_1', {'Layer Type': 'Linear', 'Input nodes': 128, 'Output nodes': 64, 'Activation': 'relu'})\n",
            "('Layer_2', {'Layer Type': 'Linear', 'Input nodes': 64, 'Output nodes': 10, 'Activation': 'softmax'})\n",
            "----------------------------------------------------------------------------------------------------\n"
          ]
        }
      ]
    },
    {
      "cell_type": "code",
      "source": [
        "class Classifier:\n",
        "  def __init__(self, model, configs, train_loader, eval_loader, loss_fn):\n",
        "    self.model = model\n",
        "    self.configs = configs\n",
        "    self.train_loader = train_loader\n",
        "    self.eval_loader = eval_loader\n",
        "    self.history = {} # Track training\n",
        "    self.loss_fn = loss_fn\n",
        "\n",
        "\n",
        "  def _train_epoch(self):\n",
        "    running_loss = 0.0\n",
        "    n_correct = 0\n",
        "    samples = 0\n",
        "    progress_bar = tqdm(enumerate(self.train_loader), total=len(self.train_loader))\n",
        "\n",
        "    for idx, (in_data, labels) in progress_bar:\n",
        "      self.model.zero_gradients()\n",
        "\n",
        "      output = self.model(in_data)\n",
        "      loss = self.loss_fn(output, labels)\n",
        "\n",
        "      self.model.backward(output,labels)\n",
        "      self.model.step(learning_rate=self.configs.learning_rate)\n",
        "\n",
        "      running_loss += loss\n",
        "      n_correct += np.sum(output.argmax(-1) == labels.argmax(-1))\n",
        "      samples += len(labels)\n",
        "\n",
        "      avg_loss = running_loss / (idx+1)\n",
        "      avg_accuracy = n_correct / samples\n",
        "\n",
        "      log = 'Batch: {} | Loss: {:.4f} | Accuracy: {:.4f}'.format(idx+1, avg_loss, avg_accuracy)\n",
        "      progress_bar.set_description(log)\n",
        "\n",
        "    return avg_loss, avg_accuracy\n",
        "\n",
        "  def evaluate(self):\n",
        "    running_loss = 0.0\n",
        "    n_correct = 0\n",
        "    samples = 0\n",
        "    progress_bar = tqdm(enumerate(self.eval_loader), total=len(self.eval_loader))\n",
        "\n",
        "    for idx, (in_data, labels) in progress_bar:\n",
        "\n",
        "      output = self.model(in_data)\n",
        "      loss = self.loss_fn(output, labels)\n",
        "\n",
        "      running_loss += loss\n",
        "      n_correct += np.sum(output.argmax(-1) == labels.argmax(-1))\n",
        "      samples += len(labels)\n",
        "\n",
        "      avg_loss = running_loss / (idx+1)\n",
        "      avg_accuracy = n_correct / samples\n",
        "      log = 'Batch: {} | Loss: {:.4f} | Accuracy: {:.4f}'.format(idx+1, avg_loss, avg_accuracy)\n",
        "      progress_bar.set_description(log)\n",
        "\n",
        "    return avg_loss, avg_accuracy\n",
        "\n",
        "  def train(self):\n",
        "    train_accuracies, train_losses = [], []\n",
        "    eval_accuracies, eval_losses = [], []\n",
        "    for epoch in range(self.configs.epochs):\n",
        "        print(f\"Epoch {epoch+1}/{self.configs.epochs}:\")\n",
        "\n",
        "        train_loss, train_acc = self._train_epoch()\n",
        "        train_losses.append(train_loss)\n",
        "        train_accuracies.append(train_acc)\n",
        "\n",
        "        eval_loss, eval_acc = self.evaluate()\n",
        "        eval_losses.append(eval_loss)\n",
        "        eval_accuracies.append(eval_acc)\n",
        "\n",
        "        print() # Indent for next epoch\n",
        "\n",
        "    self.history['training'] = {\n",
        "        'accuracy': train_accuracies,\n",
        "        'loss': train_losses\n",
        "    }\n",
        "\n",
        "    self.history['eval'] = {\n",
        "        'accuracy': eval_accuracies,\n",
        "        'loss': eval_losses\n",
        "    }\n",
        "\n",
        "    return self.history\n",
        "\n",
        "  def predict(self, x):\n",
        "    output = self.model(x, requires_gradients=False)\n",
        "    return output.argmax(-1)\n",
        "\n"
      ],
      "metadata": {
        "id": "Kh2GzSODO-ys"
      },
      "execution_count": 27,
      "outputs": []
    },
    {
      "cell_type": "code",
      "source": [
        "classifier = Classifier(\n",
        "    model,\n",
        "    Config,\n",
        "    train_loader,\n",
        "    train_loader,\n",
        "    cross_entropy\n",
        ")\n",
        "\n",
        "history = classifier.train()"
      ],
      "metadata": {
        "colab": {
          "base_uri": "https://localhost:8080/"
        },
        "id": "aSNYJ-bBeM3n",
        "outputId": "a9ec65e7-2111-44e7-9212-bc9f00592a3f"
      },
      "execution_count": 28,
      "outputs": [
        {
          "output_type": "stream",
          "name": "stdout",
          "text": [
            "Epoch 1/50:\n"
          ]
        },
        {
          "output_type": "stream",
          "name": "stderr",
          "text": [
            "Batch: 1050 | Loss: 1.6836 | Accuracy: 0.4747: 100%|██████████| 1050/1050 [00:07<00:00, 147.15it/s]\n",
            "Batch: 1050 | Loss: 1.1790 | Accuracy: 0.5929: 100%|██████████| 1050/1050 [00:06<00:00, 167.84it/s]\n"
          ]
        },
        {
          "output_type": "stream",
          "name": "stdout",
          "text": [
            "\n",
            "Epoch 2/50:\n"
          ]
        },
        {
          "output_type": "stream",
          "name": "stderr",
          "text": [
            "Batch: 1050 | Loss: 1.0152 | Accuracy: 0.6650: 100%|██████████| 1050/1050 [00:07<00:00, 140.60it/s]\n",
            "Batch: 1050 | Loss: 0.8700 | Accuracy: 0.7319: 100%|██████████| 1050/1050 [00:05<00:00, 207.88it/s]\n"
          ]
        },
        {
          "output_type": "stream",
          "name": "stdout",
          "text": [
            "\n",
            "Epoch 3/50:\n"
          ]
        },
        {
          "output_type": "stream",
          "name": "stderr",
          "text": [
            "Batch: 1050 | Loss: 0.7274 | Accuracy: 0.7872: 100%|██████████| 1050/1050 [00:08<00:00, 125.14it/s]\n",
            "Batch: 1050 | Loss: 0.6193 | Accuracy: 0.8119: 100%|██████████| 1050/1050 [00:04<00:00, 220.02it/s]\n"
          ]
        },
        {
          "output_type": "stream",
          "name": "stdout",
          "text": [
            "\n",
            "Epoch 4/50:\n"
          ]
        },
        {
          "output_type": "stream",
          "name": "stderr",
          "text": [
            "Batch: 1050 | Loss: 0.5722 | Accuracy: 0.8256: 100%|██████████| 1050/1050 [00:07<00:00, 136.78it/s]\n",
            "Batch: 1050 | Loss: 0.5286 | Accuracy: 0.8395: 100%|██████████| 1050/1050 [00:05<00:00, 209.81it/s]\n"
          ]
        },
        {
          "output_type": "stream",
          "name": "stdout",
          "text": [
            "\n",
            "Epoch 5/50:\n"
          ]
        },
        {
          "output_type": "stream",
          "name": "stderr",
          "text": [
            "Batch: 1050 | Loss: 0.4821 | Accuracy: 0.8565: 100%|██████████| 1050/1050 [00:07<00:00, 146.69it/s]\n",
            "Batch: 1050 | Loss: 0.4420 | Accuracy: 0.8683: 100%|██████████| 1050/1050 [00:05<00:00, 209.62it/s]\n"
          ]
        },
        {
          "output_type": "stream",
          "name": "stdout",
          "text": [
            "\n",
            "Epoch 6/50:\n"
          ]
        },
        {
          "output_type": "stream",
          "name": "stderr",
          "text": [
            "Batch: 1050 | Loss: 0.4198 | Accuracy: 0.8763: 100%|██████████| 1050/1050 [00:08<00:00, 122.60it/s]\n",
            "Batch: 1050 | Loss: 0.4044 | Accuracy: 0.8810: 100%|██████████| 1050/1050 [00:04<00:00, 215.08it/s]\n"
          ]
        },
        {
          "output_type": "stream",
          "name": "stdout",
          "text": [
            "\n",
            "Epoch 7/50:\n"
          ]
        },
        {
          "output_type": "stream",
          "name": "stderr",
          "text": [
            "Batch: 1050 | Loss: 0.3794 | Accuracy: 0.8895: 100%|██████████| 1050/1050 [00:07<00:00, 134.45it/s]\n",
            "Batch: 1050 | Loss: 0.3709 | Accuracy: 0.8896: 100%|██████████| 1050/1050 [00:04<00:00, 229.83it/s]\n"
          ]
        },
        {
          "output_type": "stream",
          "name": "stdout",
          "text": [
            "\n",
            "Epoch 8/50:\n"
          ]
        },
        {
          "output_type": "stream",
          "name": "stderr",
          "text": [
            "Batch: 1050 | Loss: 0.3527 | Accuracy: 0.8981: 100%|██████████| 1050/1050 [00:07<00:00, 139.15it/s]\n",
            "Batch: 1050 | Loss: 0.3661 | Accuracy: 0.8937: 100%|██████████| 1050/1050 [00:04<00:00, 225.05it/s]\n"
          ]
        },
        {
          "output_type": "stream",
          "name": "stdout",
          "text": [
            "\n",
            "Epoch 9/50:\n"
          ]
        },
        {
          "output_type": "stream",
          "name": "stderr",
          "text": [
            "Batch: 1050 | Loss: 0.3345 | Accuracy: 0.9017: 100%|██████████| 1050/1050 [00:08<00:00, 120.32it/s]\n",
            "Batch: 1050 | Loss: 0.3480 | Accuracy: 0.8987: 100%|██████████| 1050/1050 [00:04<00:00, 222.22it/s]\n"
          ]
        },
        {
          "output_type": "stream",
          "name": "stdout",
          "text": [
            "\n",
            "Epoch 10/50:\n"
          ]
        },
        {
          "output_type": "stream",
          "name": "stderr",
          "text": [
            "Batch: 1050 | Loss: 0.3155 | Accuracy: 0.9069: 100%|██████████| 1050/1050 [00:08<00:00, 123.91it/s]\n",
            "Batch: 1050 | Loss: 0.3135 | Accuracy: 0.9080: 100%|██████████| 1050/1050 [00:04<00:00, 221.86it/s]\n"
          ]
        },
        {
          "output_type": "stream",
          "name": "stdout",
          "text": [
            "\n",
            "Epoch 11/50:\n"
          ]
        },
        {
          "output_type": "stream",
          "name": "stderr",
          "text": [
            "Batch: 1050 | Loss: 0.3044 | Accuracy: 0.9099: 100%|██████████| 1050/1050 [00:07<00:00, 132.71it/s]\n",
            "Batch: 1050 | Loss: 0.3037 | Accuracy: 0.9102: 100%|██████████| 1050/1050 [00:04<00:00, 234.84it/s]\n"
          ]
        },
        {
          "output_type": "stream",
          "name": "stdout",
          "text": [
            "\n",
            "Epoch 12/50:\n"
          ]
        },
        {
          "output_type": "stream",
          "name": "stderr",
          "text": [
            "Batch: 1050 | Loss: 0.2922 | Accuracy: 0.9130: 100%|██████████| 1050/1050 [00:08<00:00, 125.42it/s]\n",
            "Batch: 1050 | Loss: 0.3065 | Accuracy: 0.9089: 100%|██████████| 1050/1050 [00:04<00:00, 234.84it/s]\n"
          ]
        },
        {
          "output_type": "stream",
          "name": "stdout",
          "text": [
            "\n",
            "Epoch 13/50:\n"
          ]
        },
        {
          "output_type": "stream",
          "name": "stderr",
          "text": [
            "Batch: 1050 | Loss: 0.2881 | Accuracy: 0.9146: 100%|██████████| 1050/1050 [00:08<00:00, 126.62it/s]\n",
            "Batch: 1050 | Loss: 0.2930 | Accuracy: 0.9134: 100%|██████████| 1050/1050 [00:04<00:00, 231.82it/s]\n"
          ]
        },
        {
          "output_type": "stream",
          "name": "stdout",
          "text": [
            "\n",
            "Epoch 14/50:\n"
          ]
        },
        {
          "output_type": "stream",
          "name": "stderr",
          "text": [
            "Batch: 1050 | Loss: 0.2777 | Accuracy: 0.9175: 100%|██████████| 1050/1050 [00:07<00:00, 143.09it/s]\n",
            "Batch: 1050 | Loss: 0.2818 | Accuracy: 0.9152: 100%|██████████| 1050/1050 [00:04<00:00, 226.76it/s]\n"
          ]
        },
        {
          "output_type": "stream",
          "name": "stdout",
          "text": [
            "\n",
            "Epoch 15/50:\n"
          ]
        },
        {
          "output_type": "stream",
          "name": "stderr",
          "text": [
            "Batch: 1050 | Loss: 0.2700 | Accuracy: 0.9193: 100%|██████████| 1050/1050 [00:08<00:00, 119.19it/s]\n",
            "Batch: 1050 | Loss: 0.2912 | Accuracy: 0.9079: 100%|██████████| 1050/1050 [00:04<00:00, 225.56it/s]\n"
          ]
        },
        {
          "output_type": "stream",
          "name": "stdout",
          "text": [
            "\n",
            "Epoch 16/50:\n"
          ]
        },
        {
          "output_type": "stream",
          "name": "stderr",
          "text": [
            "Batch: 1050 | Loss: 0.2643 | Accuracy: 0.9220: 100%|██████████| 1050/1050 [00:08<00:00, 129.20it/s]\n",
            "Batch: 1050 | Loss: 0.2702 | Accuracy: 0.9213: 100%|██████████| 1050/1050 [00:04<00:00, 216.35it/s]\n"
          ]
        },
        {
          "output_type": "stream",
          "name": "stdout",
          "text": [
            "\n",
            "Epoch 17/50:\n"
          ]
        },
        {
          "output_type": "stream",
          "name": "stderr",
          "text": [
            "Batch: 1050 | Loss: 0.2593 | Accuracy: 0.9224: 100%|██████████| 1050/1050 [00:07<00:00, 135.56it/s]\n",
            "Batch: 1050 | Loss: 0.2579 | Accuracy: 0.9222: 100%|██████████| 1050/1050 [00:04<00:00, 222.27it/s]\n"
          ]
        },
        {
          "output_type": "stream",
          "name": "stdout",
          "text": [
            "\n",
            "Epoch 18/50:\n"
          ]
        },
        {
          "output_type": "stream",
          "name": "stderr",
          "text": [
            "Batch: 1050 | Loss: 0.2546 | Accuracy: 0.9233: 100%|██████████| 1050/1050 [00:08<00:00, 121.49it/s]\n",
            "Batch: 1050 | Loss: 0.2561 | Accuracy: 0.9232: 100%|██████████| 1050/1050 [00:04<00:00, 235.98it/s]\n"
          ]
        },
        {
          "output_type": "stream",
          "name": "stdout",
          "text": [
            "\n",
            "Epoch 19/50:\n"
          ]
        },
        {
          "output_type": "stream",
          "name": "stderr",
          "text": [
            "Batch: 1050 | Loss: 0.2508 | Accuracy: 0.9250: 100%|██████████| 1050/1050 [00:07<00:00, 133.69it/s]\n",
            "Batch: 1050 | Loss: 0.2464 | Accuracy: 0.9269: 100%|██████████| 1050/1050 [00:04<00:00, 221.56it/s]\n"
          ]
        },
        {
          "output_type": "stream",
          "name": "stdout",
          "text": [
            "\n",
            "Epoch 20/50:\n"
          ]
        },
        {
          "output_type": "stream",
          "name": "stderr",
          "text": [
            "Batch: 1050 | Loss: 0.2443 | Accuracy: 0.9270: 100%|██████████| 1050/1050 [00:08<00:00, 125.55it/s]\n",
            "Batch: 1050 | Loss: 0.2409 | Accuracy: 0.9267: 100%|██████████| 1050/1050 [00:04<00:00, 244.62it/s]\n"
          ]
        },
        {
          "output_type": "stream",
          "name": "stdout",
          "text": [
            "\n",
            "Epoch 21/50:\n"
          ]
        },
        {
          "output_type": "stream",
          "name": "stderr",
          "text": [
            "Batch: 1050 | Loss: 0.2405 | Accuracy: 0.9280: 100%|██████████| 1050/1050 [00:07<00:00, 131.34it/s]\n",
            "Batch: 1050 | Loss: 0.2374 | Accuracy: 0.9276: 100%|██████████| 1050/1050 [00:05<00:00, 196.18it/s]\n"
          ]
        },
        {
          "output_type": "stream",
          "name": "stdout",
          "text": [
            "\n",
            "Epoch 22/50:\n"
          ]
        },
        {
          "output_type": "stream",
          "name": "stderr",
          "text": [
            "Batch: 1050 | Loss: 0.2367 | Accuracy: 0.9297: 100%|██████████| 1050/1050 [00:07<00:00, 143.50it/s]\n",
            "Batch: 1050 | Loss: 0.2329 | Accuracy: 0.9284: 100%|██████████| 1050/1050 [00:04<00:00, 233.07it/s]\n"
          ]
        },
        {
          "output_type": "stream",
          "name": "stdout",
          "text": [
            "\n",
            "Epoch 23/50:\n"
          ]
        },
        {
          "output_type": "stream",
          "name": "stderr",
          "text": [
            "Batch: 1050 | Loss: 0.2321 | Accuracy: 0.9305: 100%|██████████| 1050/1050 [00:08<00:00, 127.49it/s]\n",
            "Batch: 1050 | Loss: 0.2386 | Accuracy: 0.9268: 100%|██████████| 1050/1050 [00:04<00:00, 224.97it/s]\n"
          ]
        },
        {
          "output_type": "stream",
          "name": "stdout",
          "text": [
            "\n",
            "Epoch 24/50:\n"
          ]
        },
        {
          "output_type": "stream",
          "name": "stderr",
          "text": [
            "Batch: 1050 | Loss: 0.2280 | Accuracy: 0.9321: 100%|██████████| 1050/1050 [00:07<00:00, 137.94it/s]\n",
            "Batch: 1050 | Loss: 0.2434 | Accuracy: 0.9261: 100%|██████████| 1050/1050 [00:04<00:00, 228.16it/s]\n"
          ]
        },
        {
          "output_type": "stream",
          "name": "stdout",
          "text": [
            "\n",
            "Epoch 25/50:\n"
          ]
        },
        {
          "output_type": "stream",
          "name": "stderr",
          "text": [
            "Batch: 1050 | Loss: 0.2260 | Accuracy: 0.9326: 100%|██████████| 1050/1050 [00:07<00:00, 138.45it/s]\n",
            "Batch: 1050 | Loss: 0.2306 | Accuracy: 0.9296: 100%|██████████| 1050/1050 [00:04<00:00, 230.41it/s]\n"
          ]
        },
        {
          "output_type": "stream",
          "name": "stdout",
          "text": [
            "\n",
            "Epoch 26/50:\n"
          ]
        },
        {
          "output_type": "stream",
          "name": "stderr",
          "text": [
            "Batch: 1050 | Loss: 0.2221 | Accuracy: 0.9334: 100%|██████████| 1050/1050 [00:08<00:00, 117.61it/s]\n",
            "Batch: 1050 | Loss: 0.2380 | Accuracy: 0.9271: 100%|██████████| 1050/1050 [00:04<00:00, 227.87it/s]\n"
          ]
        },
        {
          "output_type": "stream",
          "name": "stdout",
          "text": [
            "\n",
            "Epoch 27/50:\n"
          ]
        },
        {
          "output_type": "stream",
          "name": "stderr",
          "text": [
            "Batch: 1050 | Loss: 0.2192 | Accuracy: 0.9342: 100%|██████████| 1050/1050 [00:08<00:00, 124.82it/s]\n",
            "Batch: 1050 | Loss: 0.2301 | Accuracy: 0.9292: 100%|██████████| 1050/1050 [00:04<00:00, 240.79it/s]\n"
          ]
        },
        {
          "output_type": "stream",
          "name": "stdout",
          "text": [
            "\n",
            "Epoch 28/50:\n"
          ]
        },
        {
          "output_type": "stream",
          "name": "stderr",
          "text": [
            "Batch: 1050 | Loss: 0.2149 | Accuracy: 0.9353: 100%|██████████| 1050/1050 [00:08<00:00, 123.23it/s]\n",
            "Batch: 1050 | Loss: 0.2340 | Accuracy: 0.9283: 100%|██████████| 1050/1050 [00:04<00:00, 231.17it/s]\n"
          ]
        },
        {
          "output_type": "stream",
          "name": "stdout",
          "text": [
            "\n",
            "Epoch 29/50:\n"
          ]
        },
        {
          "output_type": "stream",
          "name": "stderr",
          "text": [
            "Batch: 1050 | Loss: 0.2130 | Accuracy: 0.9354: 100%|██████████| 1050/1050 [00:08<00:00, 124.69it/s]\n",
            "Batch: 1050 | Loss: 0.2527 | Accuracy: 0.9194: 100%|██████████| 1050/1050 [00:05<00:00, 197.51it/s]\n"
          ]
        },
        {
          "output_type": "stream",
          "name": "stdout",
          "text": [
            "\n",
            "Epoch 30/50:\n"
          ]
        },
        {
          "output_type": "stream",
          "name": "stderr",
          "text": [
            "Batch: 1050 | Loss: 0.2119 | Accuracy: 0.9356: 100%|██████████| 1050/1050 [00:07<00:00, 139.54it/s]\n",
            "Batch: 1050 | Loss: 0.2424 | Accuracy: 0.9261: 100%|██████████| 1050/1050 [00:04<00:00, 241.57it/s]\n"
          ]
        },
        {
          "output_type": "stream",
          "name": "stdout",
          "text": [
            "\n",
            "Epoch 31/50:\n"
          ]
        },
        {
          "output_type": "stream",
          "name": "stderr",
          "text": [
            "Batch: 1050 | Loss: 0.2104 | Accuracy: 0.9364: 100%|██████████| 1050/1050 [00:07<00:00, 137.10it/s]\n",
            "Batch: 1050 | Loss: 0.2176 | Accuracy: 0.9339: 100%|██████████| 1050/1050 [00:04<00:00, 226.64it/s]\n"
          ]
        },
        {
          "output_type": "stream",
          "name": "stdout",
          "text": [
            "\n",
            "Epoch 32/50:\n"
          ]
        },
        {
          "output_type": "stream",
          "name": "stderr",
          "text": [
            "Batch: 1050 | Loss: 0.2057 | Accuracy: 0.9379: 100%|██████████| 1050/1050 [00:08<00:00, 117.87it/s]\n",
            "Batch: 1050 | Loss: 0.2360 | Accuracy: 0.9274: 100%|██████████| 1050/1050 [00:04<00:00, 224.77it/s]\n"
          ]
        },
        {
          "output_type": "stream",
          "name": "stdout",
          "text": [
            "\n",
            "Epoch 33/50:\n"
          ]
        },
        {
          "output_type": "stream",
          "name": "stderr",
          "text": [
            "Batch: 1050 | Loss: 0.2048 | Accuracy: 0.9377: 100%|██████████| 1050/1050 [00:07<00:00, 132.26it/s]\n",
            "Batch: 1050 | Loss: 0.2189 | Accuracy: 0.9324: 100%|██████████| 1050/1050 [00:04<00:00, 221.04it/s]\n"
          ]
        },
        {
          "output_type": "stream",
          "name": "stdout",
          "text": [
            "\n",
            "Epoch 34/50:\n"
          ]
        },
        {
          "output_type": "stream",
          "name": "stderr",
          "text": [
            "Batch: 1050 | Loss: 0.2022 | Accuracy: 0.9385: 100%|██████████| 1050/1050 [00:07<00:00, 132.67it/s]\n",
            "Batch: 1050 | Loss: 0.2157 | Accuracy: 0.9326: 100%|██████████| 1050/1050 [00:04<00:00, 219.32it/s]\n"
          ]
        },
        {
          "output_type": "stream",
          "name": "stdout",
          "text": [
            "\n",
            "Epoch 35/50:\n"
          ]
        },
        {
          "output_type": "stream",
          "name": "stderr",
          "text": [
            "Batch: 1050 | Loss: 0.2004 | Accuracy: 0.9399: 100%|██████████| 1050/1050 [00:08<00:00, 116.92it/s]\n",
            "Batch: 1050 | Loss: 0.2130 | Accuracy: 0.9339: 100%|██████████| 1050/1050 [00:04<00:00, 223.05it/s]\n"
          ]
        },
        {
          "output_type": "stream",
          "name": "stdout",
          "text": [
            "\n",
            "Epoch 36/50:\n"
          ]
        },
        {
          "output_type": "stream",
          "name": "stderr",
          "text": [
            "Batch: 1050 | Loss: 0.1979 | Accuracy: 0.9399: 100%|██████████| 1050/1050 [00:08<00:00, 122.34it/s]\n",
            "Batch: 1050 | Loss: 0.2345 | Accuracy: 0.9274: 100%|██████████| 1050/1050 [00:07<00:00, 146.38it/s]\n"
          ]
        },
        {
          "output_type": "stream",
          "name": "stdout",
          "text": [
            "\n",
            "Epoch 37/50:\n"
          ]
        },
        {
          "output_type": "stream",
          "name": "stderr",
          "text": [
            "Batch: 1050 | Loss: 0.1950 | Accuracy: 0.9407: 100%|██████████| 1050/1050 [00:07<00:00, 141.41it/s]\n",
            "Batch: 1050 | Loss: 0.2228 | Accuracy: 0.9310: 100%|██████████| 1050/1050 [00:04<00:00, 239.06it/s]\n"
          ]
        },
        {
          "output_type": "stream",
          "name": "stdout",
          "text": [
            "\n",
            "Epoch 38/50:\n"
          ]
        },
        {
          "output_type": "stream",
          "name": "stderr",
          "text": [
            "Batch: 1050 | Loss: 0.1928 | Accuracy: 0.9412: 100%|██████████| 1050/1050 [00:08<00:00, 117.02it/s]\n",
            "Batch: 1050 | Loss: 0.2154 | Accuracy: 0.9329: 100%|██████████| 1050/1050 [00:04<00:00, 215.53it/s]\n"
          ]
        },
        {
          "output_type": "stream",
          "name": "stdout",
          "text": [
            "\n",
            "Epoch 39/50:\n"
          ]
        },
        {
          "output_type": "stream",
          "name": "stderr",
          "text": [
            "Batch: 1050 | Loss: 0.1916 | Accuracy: 0.9413: 100%|██████████| 1050/1050 [00:07<00:00, 135.56it/s]\n",
            "Batch: 1050 | Loss: 0.2091 | Accuracy: 0.9351: 100%|██████████| 1050/1050 [00:05<00:00, 207.74it/s]\n"
          ]
        },
        {
          "output_type": "stream",
          "name": "stdout",
          "text": [
            "\n",
            "Epoch 40/50:\n"
          ]
        },
        {
          "output_type": "stream",
          "name": "stderr",
          "text": [
            "Batch: 1050 | Loss: 0.1900 | Accuracy: 0.9419: 100%|██████████| 1050/1050 [00:07<00:00, 139.15it/s]\n",
            "Batch: 1050 | Loss: 0.2105 | Accuracy: 0.9349: 100%|██████████| 1050/1050 [00:04<00:00, 219.91it/s]\n"
          ]
        },
        {
          "output_type": "stream",
          "name": "stdout",
          "text": [
            "\n",
            "Epoch 41/50:\n"
          ]
        },
        {
          "output_type": "stream",
          "name": "stderr",
          "text": [
            "Batch: 1050 | Loss: 0.1870 | Accuracy: 0.9422: 100%|██████████| 1050/1050 [00:08<00:00, 120.43it/s]\n",
            "Batch: 1050 | Loss: 0.2041 | Accuracy: 0.9368: 100%|██████████| 1050/1050 [00:04<00:00, 223.71it/s]\n"
          ]
        },
        {
          "output_type": "stream",
          "name": "stdout",
          "text": [
            "\n",
            "Epoch 42/50:\n"
          ]
        },
        {
          "output_type": "stream",
          "name": "stderr",
          "text": [
            "Batch: 1050 | Loss: 0.1859 | Accuracy: 0.9428: 100%|██████████| 1050/1050 [00:09<00:00, 114.83it/s]\n",
            "Batch: 1050 | Loss: 0.2027 | Accuracy: 0.9383: 100%|██████████| 1050/1050 [00:05<00:00, 201.39it/s]\n"
          ]
        },
        {
          "output_type": "stream",
          "name": "stdout",
          "text": [
            "\n",
            "Epoch 43/50:\n"
          ]
        },
        {
          "output_type": "stream",
          "name": "stderr",
          "text": [
            "Batch: 1050 | Loss: 0.1840 | Accuracy: 0.9445: 100%|██████████| 1050/1050 [00:07<00:00, 132.69it/s]\n",
            "Batch: 1050 | Loss: 0.2011 | Accuracy: 0.9373: 100%|██████████| 1050/1050 [00:04<00:00, 229.86it/s]\n"
          ]
        },
        {
          "output_type": "stream",
          "name": "stdout",
          "text": [
            "\n",
            "Epoch 44/50:\n"
          ]
        },
        {
          "output_type": "stream",
          "name": "stderr",
          "text": [
            "Batch: 1050 | Loss: 0.1821 | Accuracy: 0.9444: 100%|██████████| 1050/1050 [00:08<00:00, 122.11it/s]\n",
            "Batch: 1050 | Loss: 0.2034 | Accuracy: 0.9376: 100%|██████████| 1050/1050 [00:04<00:00, 233.27it/s]\n"
          ]
        },
        {
          "output_type": "stream",
          "name": "stdout",
          "text": [
            "\n",
            "Epoch 45/50:\n"
          ]
        },
        {
          "output_type": "stream",
          "name": "stderr",
          "text": [
            "Batch: 1050 | Loss: 0.1813 | Accuracy: 0.9442: 100%|██████████| 1050/1050 [00:09<00:00, 116.54it/s]\n",
            "Batch: 1050 | Loss: 0.1966 | Accuracy: 0.9401: 100%|██████████| 1050/1050 [00:04<00:00, 233.80it/s]\n"
          ]
        },
        {
          "output_type": "stream",
          "name": "stdout",
          "text": [
            "\n",
            "Epoch 46/50:\n"
          ]
        },
        {
          "output_type": "stream",
          "name": "stderr",
          "text": [
            "Batch: 1050 | Loss: 0.1791 | Accuracy: 0.9456: 100%|██████████| 1050/1050 [00:08<00:00, 131.19it/s]\n",
            "Batch: 1050 | Loss: 0.2061 | Accuracy: 0.9368: 100%|██████████| 1050/1050 [00:05<00:00, 206.31it/s]\n"
          ]
        },
        {
          "output_type": "stream",
          "name": "stdout",
          "text": [
            "\n",
            "Epoch 47/50:\n"
          ]
        },
        {
          "output_type": "stream",
          "name": "stderr",
          "text": [
            "Batch: 1050 | Loss: 0.1783 | Accuracy: 0.9454: 100%|██████████| 1050/1050 [00:08<00:00, 130.00it/s]\n",
            "Batch: 1050 | Loss: 0.2167 | Accuracy: 0.9336: 100%|██████████| 1050/1050 [00:04<00:00, 231.97it/s]\n"
          ]
        },
        {
          "output_type": "stream",
          "name": "stdout",
          "text": [
            "\n",
            "Epoch 48/50:\n"
          ]
        },
        {
          "output_type": "stream",
          "name": "stderr",
          "text": [
            "Batch: 1050 | Loss: 0.1757 | Accuracy: 0.9465: 100%|██████████| 1050/1050 [00:08<00:00, 116.91it/s]\n",
            "Batch: 1050 | Loss: 0.1989 | Accuracy: 0.9382: 100%|██████████| 1050/1050 [00:04<00:00, 219.51it/s]\n"
          ]
        },
        {
          "output_type": "stream",
          "name": "stdout",
          "text": [
            "\n",
            "Epoch 49/50:\n"
          ]
        },
        {
          "output_type": "stream",
          "name": "stderr",
          "text": [
            "Batch: 1050 | Loss: 0.1753 | Accuracy: 0.9465: 100%|██████████| 1050/1050 [00:07<00:00, 133.58it/s]\n",
            "Batch: 1050 | Loss: 0.2151 | Accuracy: 0.9350: 100%|██████████| 1050/1050 [00:04<00:00, 216.80it/s]\n"
          ]
        },
        {
          "output_type": "stream",
          "name": "stdout",
          "text": [
            "\n",
            "Epoch 50/50:\n"
          ]
        },
        {
          "output_type": "stream",
          "name": "stderr",
          "text": [
            "Batch: 1050 | Loss: 0.1737 | Accuracy: 0.9476: 100%|██████████| 1050/1050 [00:08<00:00, 119.20it/s]\n",
            "Batch: 1050 | Loss: 0.1926 | Accuracy: 0.9397: 100%|██████████| 1050/1050 [00:04<00:00, 225.41it/s]"
          ]
        },
        {
          "output_type": "stream",
          "name": "stdout",
          "text": [
            "\n"
          ]
        },
        {
          "output_type": "stream",
          "name": "stderr",
          "text": [
            "\n"
          ]
        }
      ]
    },
    {
      "cell_type": "code",
      "source": [
        "fig, ax = plt.subplots(1, 2, figsize=(15, 5))\n",
        "fig.subplots_adjust(hspace=0.5)\n",
        "\n",
        "ax[0].plot(history['training']['accuracy'], label='Training Accuracy')\n",
        "ax[0].plot(history['eval']['accuracy'], label='Validation Accuracy')\n",
        "ax[0].set_title('Accuracy')\n",
        "ax[0].legend()\n",
        "ax[0].set_xlabel('Epochs')\n",
        "ax[0].set_ylabel('Accuracy')\n",
        "\n",
        "ax[1].plot(history['training']['loss'], label='Training Loss')\n",
        "ax[1].plot(history['eval']['loss'], label='Validation Loss')\n",
        "ax[1].set_title('Loss')\n",
        "ax[1].legend()\n",
        "ax[1].set_xlabel('Epochs')\n",
        "ax[1].set_ylabel('Loss')\n",
        "\n",
        "plt.show()"
      ],
      "metadata": {
        "id": "D6h_1ruy2-Sl",
        "outputId": "10db385d-02db-4717-a84c-7098d8ab6447",
        "colab": {
          "base_uri": "https://localhost:8080/",
          "height": 487
        }
      },
      "execution_count": 30,
      "outputs": [
        {
          "output_type": "display_data",
          "data": {
            "text/plain": [
              "<Figure size 1500x500 with 2 Axes>"
            ],
            "image/png": "[encoded data removed]"
          },
          "metadata": {}
        }
      ]
    },
    {
      "cell_type": "code",
      "source": [
        "_ = classifier.evaluate()"
      ],
      "metadata": {
        "id": "KkEGdsIA9cQS",
        "outputId": "80908ed9-a512-4e5e-918b-75092b76cfe0",
        "colab": {
          "base_uri": "https://localhost:8080/"
        }
      },
      "execution_count": 31,
      "outputs": [
        {
          "output_type": "stream",
          "name": "stderr",
          "text": [
            "Batch: 1050 | Loss: 0.1926 | Accuracy: 0.9397: 100%|██████████| 1050/1050 [00:04<00:00, 212.15it/s]\n"
          ]
        }
      ]
    },
    {
      "cell_type": "code",
      "source": [
        "test_in, test_out = next(iter(test_loader))"
      ],
      "metadata": {
        "id": "hi0_xI-FVDl5"
      },
      "execution_count": 32,
      "outputs": []
    },
    {
      "cell_type": "code",
      "source": [
        "predictions = classifier.predict(test_in)\n",
        "\n",
        "print(f'True values are: {test_out.argmax(-1)}')\n",
        "print(f'Predictions are: {predictions}')"
      ],
      "metadata": {
        "id": "F8g-AWtDVZWH",
        "outputId": "b4952f6e-566e-496c-f31a-8359f31fd3ba",
        "colab": {
          "base_uri": "https://localhost:8080/"
        }
      },
      "execution_count": 33,
      "outputs": [
        {
          "output_type": "stream",
          "name": "stdout",
          "text": [
            "True values are: [3 2 1 1 3 7 9 5 7 6 1 3 2 5 1 9 9 7 2 6 5 9 9 1 9 9 9 6 9 4 7 7]\n",
            "Predictions are: [3 2 1 1 9 7 9 5 7 5 1 3 2 3 1 9 5 7 2 6 0 9 9 1 9 9 9 6 9 9 7 7]\n"
          ]
        }
      ]
    },
    {
      "cell_type": "code",
      "source": [],
      "metadata": {
        "id": "cSBZSVNJVxZS"
      },
      "execution_count": null,
      "outputs": []
    }
  ]
}